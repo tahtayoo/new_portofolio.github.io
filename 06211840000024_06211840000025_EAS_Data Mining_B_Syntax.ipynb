{
 "cells": [
  {
   "cell_type": "code",
   "execution_count": 1,
   "metadata": {},
   "outputs": [],
   "source": [
    "import pandas as pd\n",
    "import numpy as np\n",
    "import matplotlib as mp1\n",
    "import matplotlib.pyplot as plt\n",
    "import seaborn as sns"
   ]
  },
  {
   "cell_type": "code",
   "execution_count": 61,
   "metadata": {},
   "outputs": [],
   "source": [
    "from sklearn.preprocessing import LabelEncoder\n",
    "from sklearn.model_selection import train_test_split\n",
    "from sklearn import svm\n",
    "from sklearn.svm import SVC"
   ]
  },
  {
   "cell_type": "code",
   "execution_count": 48,
   "metadata": {},
   "outputs": [
    {
     "data": {
      "text/html": [
       "<div>\n",
       "<style scoped>\n",
       "    .dataframe tbody tr th:only-of-type {\n",
       "        vertical-align: middle;\n",
       "    }\n",
       "\n",
       "    .dataframe tbody tr th {\n",
       "        vertical-align: top;\n",
       "    }\n",
       "\n",
       "    .dataframe thead th {\n",
       "        text-align: right;\n",
       "    }\n",
       "</style>\n",
       "<table border=\"1\" class=\"dataframe\">\n",
       "  <thead>\n",
       "    <tr style=\"text-align: right;\">\n",
       "      <th></th>\n",
       "      <th>patient_number</th>\n",
       "      <th>cholesterol</th>\n",
       "      <th>glucose</th>\n",
       "      <th>hdl_chol</th>\n",
       "      <th>chol_hdl_ratio</th>\n",
       "      <th>age</th>\n",
       "      <th>gender</th>\n",
       "      <th>height</th>\n",
       "      <th>weight</th>\n",
       "      <th>bmi</th>\n",
       "      <th>systolic_bp</th>\n",
       "      <th>diastolic_bp</th>\n",
       "      <th>waist</th>\n",
       "      <th>hip</th>\n",
       "      <th>waist_hip_ratio</th>\n",
       "      <th>diabetes</th>\n",
       "    </tr>\n",
       "  </thead>\n",
       "  <tbody>\n",
       "    <tr>\n",
       "      <th>0</th>\n",
       "      <td>1</td>\n",
       "      <td>193</td>\n",
       "      <td>77</td>\n",
       "      <td>49</td>\n",
       "      <td>3.9</td>\n",
       "      <td>19</td>\n",
       "      <td>female</td>\n",
       "      <td>61</td>\n",
       "      <td>119</td>\n",
       "      <td>22.5</td>\n",
       "      <td>118</td>\n",
       "      <td>70</td>\n",
       "      <td>32</td>\n",
       "      <td>38</td>\n",
       "      <td>0.84</td>\n",
       "      <td>No diabetes</td>\n",
       "    </tr>\n",
       "    <tr>\n",
       "      <th>1</th>\n",
       "      <td>2</td>\n",
       "      <td>146</td>\n",
       "      <td>79</td>\n",
       "      <td>41</td>\n",
       "      <td>3.6</td>\n",
       "      <td>19</td>\n",
       "      <td>female</td>\n",
       "      <td>60</td>\n",
       "      <td>135</td>\n",
       "      <td>26.4</td>\n",
       "      <td>108</td>\n",
       "      <td>58</td>\n",
       "      <td>33</td>\n",
       "      <td>40</td>\n",
       "      <td>0.83</td>\n",
       "      <td>No diabetes</td>\n",
       "    </tr>\n",
       "    <tr>\n",
       "      <th>2</th>\n",
       "      <td>3</td>\n",
       "      <td>217</td>\n",
       "      <td>75</td>\n",
       "      <td>54</td>\n",
       "      <td>4.0</td>\n",
       "      <td>20</td>\n",
       "      <td>female</td>\n",
       "      <td>67</td>\n",
       "      <td>187</td>\n",
       "      <td>29.3</td>\n",
       "      <td>110</td>\n",
       "      <td>72</td>\n",
       "      <td>40</td>\n",
       "      <td>45</td>\n",
       "      <td>0.89</td>\n",
       "      <td>No diabetes</td>\n",
       "    </tr>\n",
       "    <tr>\n",
       "      <th>3</th>\n",
       "      <td>4</td>\n",
       "      <td>226</td>\n",
       "      <td>97</td>\n",
       "      <td>70</td>\n",
       "      <td>3.2</td>\n",
       "      <td>20</td>\n",
       "      <td>female</td>\n",
       "      <td>64</td>\n",
       "      <td>114</td>\n",
       "      <td>19.6</td>\n",
       "      <td>122</td>\n",
       "      <td>64</td>\n",
       "      <td>31</td>\n",
       "      <td>39</td>\n",
       "      <td>0.79</td>\n",
       "      <td>No diabetes</td>\n",
       "    </tr>\n",
       "    <tr>\n",
       "      <th>4</th>\n",
       "      <td>5</td>\n",
       "      <td>164</td>\n",
       "      <td>91</td>\n",
       "      <td>67</td>\n",
       "      <td>2.4</td>\n",
       "      <td>20</td>\n",
       "      <td>female</td>\n",
       "      <td>70</td>\n",
       "      <td>141</td>\n",
       "      <td>20.2</td>\n",
       "      <td>122</td>\n",
       "      <td>86</td>\n",
       "      <td>32</td>\n",
       "      <td>39</td>\n",
       "      <td>0.82</td>\n",
       "      <td>No diabetes</td>\n",
       "    </tr>\n",
       "  </tbody>\n",
       "</table>\n",
       "</div>"
      ],
      "text/plain": [
       "   patient_number  cholesterol  glucose  hdl_chol  chol_hdl_ratio  age  \\\n",
       "0               1          193       77        49             3.9   19   \n",
       "1               2          146       79        41             3.6   19   \n",
       "2               3          217       75        54             4.0   20   \n",
       "3               4          226       97        70             3.2   20   \n",
       "4               5          164       91        67             2.4   20   \n",
       "\n",
       "   gender  height  weight   bmi  systolic_bp  diastolic_bp  waist  hip  \\\n",
       "0  female      61     119  22.5          118            70     32   38   \n",
       "1  female      60     135  26.4          108            58     33   40   \n",
       "2  female      67     187  29.3          110            72     40   45   \n",
       "3  female      64     114  19.6          122            64     31   39   \n",
       "4  female      70     141  20.2          122            86     32   39   \n",
       "\n",
       "   waist_hip_ratio     diabetes  \n",
       "0             0.84  No diabetes  \n",
       "1             0.83  No diabetes  \n",
       "2             0.89  No diabetes  \n",
       "3             0.79  No diabetes  \n",
       "4             0.82  No diabetes  "
      ]
     },
     "execution_count": 48,
     "metadata": {},
     "output_type": "execute_result"
    }
   ],
   "source": [
    "data1=pd.read_csv(\"diabetes1.csv\",delimiter=\",\")\n",
    "data1.head()"
   ]
  },
  {
   "cell_type": "code",
   "execution_count": 30,
   "metadata": {},
   "outputs": [
    {
     "data": {
      "text/plain": [
       "(390, 16)"
      ]
     },
     "execution_count": 30,
     "metadata": {},
     "output_type": "execute_result"
    }
   ],
   "source": [
    "data1.shape"
   ]
  },
  {
   "cell_type": "code",
   "execution_count": 5,
   "metadata": {},
   "outputs": [
    {
     "data": {
      "text/plain": [
       "patient_number     0\n",
       "cholesterol        0\n",
       "glucose            0\n",
       "hdl_chol           0\n",
       "chol_hdl_ratio     0\n",
       "age                0\n",
       "gender             0\n",
       "height             0\n",
       "weight             0\n",
       "bmi                0\n",
       "systolic_bp        0\n",
       "diastolic_bp       0\n",
       "waist              0\n",
       "hip                0\n",
       "waist_hip_ratio    0\n",
       "diabetes           0\n",
       "dtype: int64"
      ]
     },
     "execution_count": 5,
     "metadata": {},
     "output_type": "execute_result"
    }
   ],
   "source": [
    "np.sum(data1.isnull())"
   ]
  },
  {
   "cell_type": "code",
   "execution_count": 6,
   "metadata": {},
   "outputs": [
    {
     "name": "stdout",
     "output_type": "stream",
     "text": [
      "<class 'pandas.core.frame.DataFrame'>\n",
      "RangeIndex: 390 entries, 0 to 389\n",
      "Data columns (total 16 columns):\n",
      " #   Column           Non-Null Count  Dtype  \n",
      "---  ------           --------------  -----  \n",
      " 0   patient_number   390 non-null    int64  \n",
      " 1   cholesterol      390 non-null    int64  \n",
      " 2   glucose          390 non-null    int64  \n",
      " 3   hdl_chol         390 non-null    int64  \n",
      " 4   chol_hdl_ratio   390 non-null    float64\n",
      " 5   age              390 non-null    int64  \n",
      " 6   gender           390 non-null    object \n",
      " 7   height           390 non-null    int64  \n",
      " 8   weight           390 non-null    int64  \n",
      " 9   bmi              390 non-null    float64\n",
      " 10  systolic_bp      390 non-null    int64  \n",
      " 11  diastolic_bp     390 non-null    int64  \n",
      " 12  waist            390 non-null    int64  \n",
      " 13  hip              390 non-null    int64  \n",
      " 14  waist_hip_ratio  390 non-null    float64\n",
      " 15  diabetes         390 non-null    object \n",
      "dtypes: float64(3), int64(11), object(2)\n",
      "memory usage: 45.8+ KB\n"
     ]
    }
   ],
   "source": [
    "data1.info()"
   ]
  },
  {
   "cell_type": "code",
   "execution_count": 49,
   "metadata": {},
   "outputs": [
    {
     "name": "stdout",
     "output_type": "stream",
     "text": [
      "[[1.72761533 0.31901328 0.5646553  ... 1.02010483 0.88248912 0.5659952 ]\n",
      " [1.71873299 1.37261932 0.52743157 ... 0.84629929 0.52894956 0.70275984]\n",
      " [1.70985065 0.21899831 0.60187902 ... 0.3703395  0.35489932 0.117828  ]\n",
      " ...\n",
      " [1.70985065 2.10203888 0.32270108 ... 1.19391037 0.35217979 1.66011232]\n",
      " [1.71873299 0.55525555 1.42681407 ... 0.49868821 0.88248912 0.52812192]\n",
      " [1.72761533 0.94669348 0.24825362 ... 2.28220046 1.41551798 1.62223904]]\n",
      "(355, 16)\n"
     ]
    }
   ],
   "source": [
    "#mengeluarkan data outlier\n",
    "from scipy import stats\n",
    "outlier = np.abs(stats.zscore(data1._get_numeric_data()))\n",
    "print(outlier)\n",
    "# mendapatkan outlier pada semua variabel (outlier>3 = outlier)\n",
    "data=data1[(outlier<3).all(axis=1)]\n",
    "print(data.shape)"
   ]
  },
  {
   "cell_type": "code",
   "execution_count": 32,
   "metadata": {},
   "outputs": [
    {
     "data": {
      "text/html": [
       "<div>\n",
       "<style scoped>\n",
       "    .dataframe tbody tr th:only-of-type {\n",
       "        vertical-align: middle;\n",
       "    }\n",
       "\n",
       "    .dataframe tbody tr th {\n",
       "        vertical-align: top;\n",
       "    }\n",
       "\n",
       "    .dataframe thead th {\n",
       "        text-align: right;\n",
       "    }\n",
       "</style>\n",
       "<table border=\"1\" class=\"dataframe\">\n",
       "  <thead>\n",
       "    <tr style=\"text-align: right;\">\n",
       "      <th></th>\n",
       "      <th>patient_number</th>\n",
       "      <th>cholesterol</th>\n",
       "      <th>glucose</th>\n",
       "      <th>hdl_chol</th>\n",
       "      <th>chol_hdl_ratio</th>\n",
       "      <th>age</th>\n",
       "      <th>height</th>\n",
       "      <th>weight</th>\n",
       "      <th>bmi</th>\n",
       "      <th>systolic_bp</th>\n",
       "      <th>diastolic_bp</th>\n",
       "      <th>waist</th>\n",
       "      <th>hip</th>\n",
       "      <th>waist_hip_ratio</th>\n",
       "    </tr>\n",
       "  </thead>\n",
       "  <tbody>\n",
       "    <tr>\n",
       "      <th>count</th>\n",
       "      <td>390.000000</td>\n",
       "      <td>390.000000</td>\n",
       "      <td>390.000000</td>\n",
       "      <td>390.000000</td>\n",
       "      <td>390.000000</td>\n",
       "      <td>390.000000</td>\n",
       "      <td>390.000000</td>\n",
       "      <td>390.000000</td>\n",
       "      <td>390.000000</td>\n",
       "      <td>390.000000</td>\n",
       "      <td>390.000000</td>\n",
       "      <td>390.000000</td>\n",
       "      <td>390.000000</td>\n",
       "      <td>390.000000</td>\n",
       "    </tr>\n",
       "    <tr>\n",
       "      <th>mean</th>\n",
       "      <td>195.500000</td>\n",
       "      <td>207.230769</td>\n",
       "      <td>107.338462</td>\n",
       "      <td>50.266667</td>\n",
       "      <td>4.524615</td>\n",
       "      <td>46.774359</td>\n",
       "      <td>65.951282</td>\n",
       "      <td>177.407692</td>\n",
       "      <td>28.775641</td>\n",
       "      <td>137.133333</td>\n",
       "      <td>83.289744</td>\n",
       "      <td>37.869231</td>\n",
       "      <td>42.992308</td>\n",
       "      <td>0.881385</td>\n",
       "    </tr>\n",
       "    <tr>\n",
       "      <th>std</th>\n",
       "      <td>112.727548</td>\n",
       "      <td>44.666005</td>\n",
       "      <td>53.798188</td>\n",
       "      <td>17.279069</td>\n",
       "      <td>1.736634</td>\n",
       "      <td>16.435911</td>\n",
       "      <td>3.918867</td>\n",
       "      <td>40.407824</td>\n",
       "      <td>6.600915</td>\n",
       "      <td>22.859528</td>\n",
       "      <td>13.498192</td>\n",
       "      <td>5.760947</td>\n",
       "      <td>5.664342</td>\n",
       "      <td>0.073212</td>\n",
       "    </tr>\n",
       "    <tr>\n",
       "      <th>min</th>\n",
       "      <td>1.000000</td>\n",
       "      <td>78.000000</td>\n",
       "      <td>48.000000</td>\n",
       "      <td>12.000000</td>\n",
       "      <td>1.500000</td>\n",
       "      <td>19.000000</td>\n",
       "      <td>52.000000</td>\n",
       "      <td>99.000000</td>\n",
       "      <td>15.200000</td>\n",
       "      <td>90.000000</td>\n",
       "      <td>48.000000</td>\n",
       "      <td>26.000000</td>\n",
       "      <td>30.000000</td>\n",
       "      <td>0.680000</td>\n",
       "    </tr>\n",
       "    <tr>\n",
       "      <th>25%</th>\n",
       "      <td>98.250000</td>\n",
       "      <td>179.000000</td>\n",
       "      <td>81.000000</td>\n",
       "      <td>38.000000</td>\n",
       "      <td>3.200000</td>\n",
       "      <td>34.000000</td>\n",
       "      <td>63.000000</td>\n",
       "      <td>150.250000</td>\n",
       "      <td>24.100000</td>\n",
       "      <td>122.000000</td>\n",
       "      <td>75.000000</td>\n",
       "      <td>33.000000</td>\n",
       "      <td>39.000000</td>\n",
       "      <td>0.830000</td>\n",
       "    </tr>\n",
       "    <tr>\n",
       "      <th>50%</th>\n",
       "      <td>195.500000</td>\n",
       "      <td>203.000000</td>\n",
       "      <td>90.000000</td>\n",
       "      <td>46.000000</td>\n",
       "      <td>4.200000</td>\n",
       "      <td>44.500000</td>\n",
       "      <td>66.000000</td>\n",
       "      <td>173.000000</td>\n",
       "      <td>27.800000</td>\n",
       "      <td>136.000000</td>\n",
       "      <td>82.000000</td>\n",
       "      <td>37.000000</td>\n",
       "      <td>42.000000</td>\n",
       "      <td>0.880000</td>\n",
       "    </tr>\n",
       "    <tr>\n",
       "      <th>75%</th>\n",
       "      <td>292.750000</td>\n",
       "      <td>229.000000</td>\n",
       "      <td>107.750000</td>\n",
       "      <td>59.000000</td>\n",
       "      <td>5.400000</td>\n",
       "      <td>60.000000</td>\n",
       "      <td>69.000000</td>\n",
       "      <td>200.000000</td>\n",
       "      <td>32.275000</td>\n",
       "      <td>148.000000</td>\n",
       "      <td>90.000000</td>\n",
       "      <td>41.000000</td>\n",
       "      <td>46.000000</td>\n",
       "      <td>0.930000</td>\n",
       "    </tr>\n",
       "    <tr>\n",
       "      <th>max</th>\n",
       "      <td>390.000000</td>\n",
       "      <td>443.000000</td>\n",
       "      <td>385.000000</td>\n",
       "      <td>120.000000</td>\n",
       "      <td>19.300000</td>\n",
       "      <td>92.000000</td>\n",
       "      <td>76.000000</td>\n",
       "      <td>325.000000</td>\n",
       "      <td>55.800000</td>\n",
       "      <td>250.000000</td>\n",
       "      <td>124.000000</td>\n",
       "      <td>56.000000</td>\n",
       "      <td>64.000000</td>\n",
       "      <td>1.140000</td>\n",
       "    </tr>\n",
       "  </tbody>\n",
       "</table>\n",
       "</div>"
      ],
      "text/plain": [
       "       patient_number  cholesterol     glucose    hdl_chol  chol_hdl_ratio  \\\n",
       "count      390.000000   390.000000  390.000000  390.000000      390.000000   \n",
       "mean       195.500000   207.230769  107.338462   50.266667        4.524615   \n",
       "std        112.727548    44.666005   53.798188   17.279069        1.736634   \n",
       "min          1.000000    78.000000   48.000000   12.000000        1.500000   \n",
       "25%         98.250000   179.000000   81.000000   38.000000        3.200000   \n",
       "50%        195.500000   203.000000   90.000000   46.000000        4.200000   \n",
       "75%        292.750000   229.000000  107.750000   59.000000        5.400000   \n",
       "max        390.000000   443.000000  385.000000  120.000000       19.300000   \n",
       "\n",
       "              age      height      weight         bmi  systolic_bp  \\\n",
       "count  390.000000  390.000000  390.000000  390.000000   390.000000   \n",
       "mean    46.774359   65.951282  177.407692   28.775641   137.133333   \n",
       "std     16.435911    3.918867   40.407824    6.600915    22.859528   \n",
       "min     19.000000   52.000000   99.000000   15.200000    90.000000   \n",
       "25%     34.000000   63.000000  150.250000   24.100000   122.000000   \n",
       "50%     44.500000   66.000000  173.000000   27.800000   136.000000   \n",
       "75%     60.000000   69.000000  200.000000   32.275000   148.000000   \n",
       "max     92.000000   76.000000  325.000000   55.800000   250.000000   \n",
       "\n",
       "       diastolic_bp       waist         hip  waist_hip_ratio  \n",
       "count    390.000000  390.000000  390.000000       390.000000  \n",
       "mean      83.289744   37.869231   42.992308         0.881385  \n",
       "std       13.498192    5.760947    5.664342         0.073212  \n",
       "min       48.000000   26.000000   30.000000         0.680000  \n",
       "25%       75.000000   33.000000   39.000000         0.830000  \n",
       "50%       82.000000   37.000000   42.000000         0.880000  \n",
       "75%       90.000000   41.000000   46.000000         0.930000  \n",
       "max      124.000000   56.000000   64.000000         1.140000  "
      ]
     },
     "execution_count": 32,
     "metadata": {},
     "output_type": "execute_result"
    }
   ],
   "source": [
    "data1.describe()"
   ]
  },
  {
   "cell_type": "markdown",
   "metadata": {},
   "source": [
    "# Statistik Deskriptif"
   ]
  },
  {
   "cell_type": "code",
   "execution_count": 50,
   "metadata": {
    "scrolled": true
   },
   "outputs": [
    {
     "data": {
      "text/html": [
       "<div>\n",
       "<style scoped>\n",
       "    .dataframe tbody tr th:only-of-type {\n",
       "        vertical-align: middle;\n",
       "    }\n",
       "\n",
       "    .dataframe tbody tr th {\n",
       "        vertical-align: top;\n",
       "    }\n",
       "\n",
       "    .dataframe thead th {\n",
       "        text-align: right;\n",
       "    }\n",
       "</style>\n",
       "<table border=\"1\" class=\"dataframe\">\n",
       "  <thead>\n",
       "    <tr style=\"text-align: right;\">\n",
       "      <th></th>\n",
       "      <th>cholesterol</th>\n",
       "      <th>glucose</th>\n",
       "      <th>hdl_chol</th>\n",
       "      <th>chol_hdl_ratio</th>\n",
       "      <th>age</th>\n",
       "      <th>gender</th>\n",
       "      <th>height</th>\n",
       "      <th>weight</th>\n",
       "      <th>bmi</th>\n",
       "      <th>systolic_bp</th>\n",
       "      <th>diastolic_bp</th>\n",
       "      <th>waist</th>\n",
       "      <th>hip</th>\n",
       "      <th>waist_hip_ratio</th>\n",
       "      <th>diabetes</th>\n",
       "    </tr>\n",
       "  </thead>\n",
       "  <tbody>\n",
       "    <tr>\n",
       "      <th>0</th>\n",
       "      <td>193</td>\n",
       "      <td>77</td>\n",
       "      <td>49</td>\n",
       "      <td>3.9</td>\n",
       "      <td>19</td>\n",
       "      <td>female</td>\n",
       "      <td>61</td>\n",
       "      <td>119</td>\n",
       "      <td>22.5</td>\n",
       "      <td>118</td>\n",
       "      <td>70</td>\n",
       "      <td>32</td>\n",
       "      <td>38</td>\n",
       "      <td>0.84</td>\n",
       "      <td>No diabetes</td>\n",
       "    </tr>\n",
       "    <tr>\n",
       "      <th>1</th>\n",
       "      <td>146</td>\n",
       "      <td>79</td>\n",
       "      <td>41</td>\n",
       "      <td>3.6</td>\n",
       "      <td>19</td>\n",
       "      <td>female</td>\n",
       "      <td>60</td>\n",
       "      <td>135</td>\n",
       "      <td>26.4</td>\n",
       "      <td>108</td>\n",
       "      <td>58</td>\n",
       "      <td>33</td>\n",
       "      <td>40</td>\n",
       "      <td>0.83</td>\n",
       "      <td>No diabetes</td>\n",
       "    </tr>\n",
       "    <tr>\n",
       "      <th>2</th>\n",
       "      <td>217</td>\n",
       "      <td>75</td>\n",
       "      <td>54</td>\n",
       "      <td>4.0</td>\n",
       "      <td>20</td>\n",
       "      <td>female</td>\n",
       "      <td>67</td>\n",
       "      <td>187</td>\n",
       "      <td>29.3</td>\n",
       "      <td>110</td>\n",
       "      <td>72</td>\n",
       "      <td>40</td>\n",
       "      <td>45</td>\n",
       "      <td>0.89</td>\n",
       "      <td>No diabetes</td>\n",
       "    </tr>\n",
       "    <tr>\n",
       "      <th>3</th>\n",
       "      <td>226</td>\n",
       "      <td>97</td>\n",
       "      <td>70</td>\n",
       "      <td>3.2</td>\n",
       "      <td>20</td>\n",
       "      <td>female</td>\n",
       "      <td>64</td>\n",
       "      <td>114</td>\n",
       "      <td>19.6</td>\n",
       "      <td>122</td>\n",
       "      <td>64</td>\n",
       "      <td>31</td>\n",
       "      <td>39</td>\n",
       "      <td>0.79</td>\n",
       "      <td>No diabetes</td>\n",
       "    </tr>\n",
       "    <tr>\n",
       "      <th>4</th>\n",
       "      <td>164</td>\n",
       "      <td>91</td>\n",
       "      <td>67</td>\n",
       "      <td>2.4</td>\n",
       "      <td>20</td>\n",
       "      <td>female</td>\n",
       "      <td>70</td>\n",
       "      <td>141</td>\n",
       "      <td>20.2</td>\n",
       "      <td>122</td>\n",
       "      <td>86</td>\n",
       "      <td>32</td>\n",
       "      <td>39</td>\n",
       "      <td>0.82</td>\n",
       "      <td>No diabetes</td>\n",
       "    </tr>\n",
       "  </tbody>\n",
       "</table>\n",
       "</div>"
      ],
      "text/plain": [
       "   cholesterol  glucose  hdl_chol  chol_hdl_ratio  age  gender  height  \\\n",
       "0          193       77        49             3.9   19  female      61   \n",
       "1          146       79        41             3.6   19  female      60   \n",
       "2          217       75        54             4.0   20  female      67   \n",
       "3          226       97        70             3.2   20  female      64   \n",
       "4          164       91        67             2.4   20  female      70   \n",
       "\n",
       "   weight   bmi  systolic_bp  diastolic_bp  waist  hip  waist_hip_ratio  \\\n",
       "0     119  22.5          118            70     32   38             0.84   \n",
       "1     135  26.4          108            58     33   40             0.83   \n",
       "2     187  29.3          110            72     40   45             0.89   \n",
       "3     114  19.6          122            64     31   39             0.79   \n",
       "4     141  20.2          122            86     32   39             0.82   \n",
       "\n",
       "      diabetes  \n",
       "0  No diabetes  \n",
       "1  No diabetes  \n",
       "2  No diabetes  \n",
       "3  No diabetes  \n",
       "4  No diabetes  "
      ]
     },
     "execution_count": 50,
     "metadata": {},
     "output_type": "execute_result"
    }
   ],
   "source": [
    "data=data.drop(['patient_number'], axis=1)\n",
    "data.head()"
   ]
  },
  {
   "cell_type": "code",
   "execution_count": 51,
   "metadata": {},
   "outputs": [
    {
     "data": {
      "text/html": [
       "<div>\n",
       "<style scoped>\n",
       "    .dataframe tbody tr th:only-of-type {\n",
       "        vertical-align: middle;\n",
       "    }\n",
       "\n",
       "    .dataframe tbody tr th {\n",
       "        vertical-align: top;\n",
       "    }\n",
       "\n",
       "    .dataframe thead th {\n",
       "        text-align: right;\n",
       "    }\n",
       "</style>\n",
       "<table border=\"1\" class=\"dataframe\">\n",
       "  <thead>\n",
       "    <tr style=\"text-align: right;\">\n",
       "      <th></th>\n",
       "      <th>cholesterol</th>\n",
       "      <th>glucose</th>\n",
       "      <th>hdl_chol</th>\n",
       "      <th>chol_hdl_ratio</th>\n",
       "      <th>age</th>\n",
       "      <th>gender</th>\n",
       "      <th>height</th>\n",
       "      <th>weight</th>\n",
       "      <th>bmi</th>\n",
       "      <th>systolic_bp</th>\n",
       "      <th>diastolic_bp</th>\n",
       "      <th>waist</th>\n",
       "      <th>hip</th>\n",
       "      <th>waist_hip_ratio</th>\n",
       "      <th>diabetes</th>\n",
       "    </tr>\n",
       "  </thead>\n",
       "  <tbody>\n",
       "    <tr>\n",
       "      <th>0</th>\n",
       "      <td>193</td>\n",
       "      <td>77</td>\n",
       "      <td>49</td>\n",
       "      <td>3.9</td>\n",
       "      <td>19</td>\n",
       "      <td>0</td>\n",
       "      <td>61</td>\n",
       "      <td>119</td>\n",
       "      <td>22.5</td>\n",
       "      <td>118</td>\n",
       "      <td>70</td>\n",
       "      <td>32</td>\n",
       "      <td>38</td>\n",
       "      <td>0.84</td>\n",
       "      <td>1</td>\n",
       "    </tr>\n",
       "    <tr>\n",
       "      <th>1</th>\n",
       "      <td>146</td>\n",
       "      <td>79</td>\n",
       "      <td>41</td>\n",
       "      <td>3.6</td>\n",
       "      <td>19</td>\n",
       "      <td>0</td>\n",
       "      <td>60</td>\n",
       "      <td>135</td>\n",
       "      <td>26.4</td>\n",
       "      <td>108</td>\n",
       "      <td>58</td>\n",
       "      <td>33</td>\n",
       "      <td>40</td>\n",
       "      <td>0.83</td>\n",
       "      <td>1</td>\n",
       "    </tr>\n",
       "    <tr>\n",
       "      <th>2</th>\n",
       "      <td>217</td>\n",
       "      <td>75</td>\n",
       "      <td>54</td>\n",
       "      <td>4.0</td>\n",
       "      <td>20</td>\n",
       "      <td>0</td>\n",
       "      <td>67</td>\n",
       "      <td>187</td>\n",
       "      <td>29.3</td>\n",
       "      <td>110</td>\n",
       "      <td>72</td>\n",
       "      <td>40</td>\n",
       "      <td>45</td>\n",
       "      <td>0.89</td>\n",
       "      <td>1</td>\n",
       "    </tr>\n",
       "    <tr>\n",
       "      <th>3</th>\n",
       "      <td>226</td>\n",
       "      <td>97</td>\n",
       "      <td>70</td>\n",
       "      <td>3.2</td>\n",
       "      <td>20</td>\n",
       "      <td>0</td>\n",
       "      <td>64</td>\n",
       "      <td>114</td>\n",
       "      <td>19.6</td>\n",
       "      <td>122</td>\n",
       "      <td>64</td>\n",
       "      <td>31</td>\n",
       "      <td>39</td>\n",
       "      <td>0.79</td>\n",
       "      <td>1</td>\n",
       "    </tr>\n",
       "    <tr>\n",
       "      <th>4</th>\n",
       "      <td>164</td>\n",
       "      <td>91</td>\n",
       "      <td>67</td>\n",
       "      <td>2.4</td>\n",
       "      <td>20</td>\n",
       "      <td>0</td>\n",
       "      <td>70</td>\n",
       "      <td>141</td>\n",
       "      <td>20.2</td>\n",
       "      <td>122</td>\n",
       "      <td>86</td>\n",
       "      <td>32</td>\n",
       "      <td>39</td>\n",
       "      <td>0.82</td>\n",
       "      <td>1</td>\n",
       "    </tr>\n",
       "  </tbody>\n",
       "</table>\n",
       "</div>"
      ],
      "text/plain": [
       "   cholesterol  glucose  hdl_chol  chol_hdl_ratio  age  gender  height  \\\n",
       "0          193       77        49             3.9   19       0      61   \n",
       "1          146       79        41             3.6   19       0      60   \n",
       "2          217       75        54             4.0   20       0      67   \n",
       "3          226       97        70             3.2   20       0      64   \n",
       "4          164       91        67             2.4   20       0      70   \n",
       "\n",
       "   weight   bmi  systolic_bp  diastolic_bp  waist  hip  waist_hip_ratio  \\\n",
       "0     119  22.5          118            70     32   38             0.84   \n",
       "1     135  26.4          108            58     33   40             0.83   \n",
       "2     187  29.3          110            72     40   45             0.89   \n",
       "3     114  19.6          122            64     31   39             0.79   \n",
       "4     141  20.2          122            86     32   39             0.82   \n",
       "\n",
       "   diabetes  \n",
       "0         1  \n",
       "1         1  \n",
       "2         1  \n",
       "3         1  \n",
       "4         1  "
      ]
     },
     "execution_count": 51,
     "metadata": {},
     "output_type": "execute_result"
    }
   ],
   "source": [
    "LE=LabelEncoder()\n",
    "data.diabetes=LE.fit_transform(data.diabetes)\n",
    "data.gender=LE.fit_transform(data.gender)\n",
    "data.head()"
   ]
  },
  {
   "cell_type": "code",
   "execution_count": 71,
   "metadata": {
    "scrolled": true
   },
   "outputs": [
    {
     "data": {
      "text/html": [
       "<div>\n",
       "<style scoped>\n",
       "    .dataframe tbody tr th:only-of-type {\n",
       "        vertical-align: middle;\n",
       "    }\n",
       "\n",
       "    .dataframe tbody tr th {\n",
       "        vertical-align: top;\n",
       "    }\n",
       "\n",
       "    .dataframe thead th {\n",
       "        text-align: right;\n",
       "    }\n",
       "</style>\n",
       "<table border=\"1\" class=\"dataframe\">\n",
       "  <thead>\n",
       "    <tr style=\"text-align: right;\">\n",
       "      <th></th>\n",
       "      <th>cholesterol</th>\n",
       "      <th>glucose</th>\n",
       "      <th>hdl_chol</th>\n",
       "      <th>chol_hdl_ratio</th>\n",
       "      <th>age</th>\n",
       "      <th>gender</th>\n",
       "      <th>height</th>\n",
       "      <th>weight</th>\n",
       "      <th>bmi</th>\n",
       "      <th>systolic_bp</th>\n",
       "      <th>diastolic_bp</th>\n",
       "      <th>waist</th>\n",
       "      <th>hip</th>\n",
       "      <th>waist_hip_ratio</th>\n",
       "      <th>diabetes</th>\n",
       "    </tr>\n",
       "  </thead>\n",
       "  <tbody>\n",
       "    <tr>\n",
       "      <th>count</th>\n",
       "      <td>355.000000</td>\n",
       "      <td>355.000000</td>\n",
       "      <td>355.000000</td>\n",
       "      <td>355.000000</td>\n",
       "      <td>355.000000</td>\n",
       "      <td>355.000000</td>\n",
       "      <td>355.000000</td>\n",
       "      <td>355.000000</td>\n",
       "      <td>355.000000</td>\n",
       "      <td>355.000000</td>\n",
       "      <td>355.000000</td>\n",
       "      <td>355.000000</td>\n",
       "      <td>355.000000</td>\n",
       "      <td>355.000000</td>\n",
       "      <td>355.000000</td>\n",
       "    </tr>\n",
       "    <tr>\n",
       "      <th>mean</th>\n",
       "      <td>204.481690</td>\n",
       "      <td>98.653521</td>\n",
       "      <td>50.104225</td>\n",
       "      <td>4.414085</td>\n",
       "      <td>45.940845</td>\n",
       "      <td>0.419718</td>\n",
       "      <td>65.940845</td>\n",
       "      <td>174.723944</td>\n",
       "      <td>28.351831</td>\n",
       "      <td>134.856338</td>\n",
       "      <td>82.783099</td>\n",
       "      <td>37.416901</td>\n",
       "      <td>42.614085</td>\n",
       "      <td>0.878648</td>\n",
       "      <td>0.876056</td>\n",
       "    </tr>\n",
       "    <tr>\n",
       "      <th>std</th>\n",
       "      <td>39.787168</td>\n",
       "      <td>35.818531</td>\n",
       "      <td>15.512811</td>\n",
       "      <td>1.453662</td>\n",
       "      <td>16.203487</td>\n",
       "      <td>0.494209</td>\n",
       "      <td>3.898340</td>\n",
       "      <td>37.491353</td>\n",
       "      <td>6.140765</td>\n",
       "      <td>20.442539</td>\n",
       "      <td>13.449455</td>\n",
       "      <td>5.445752</td>\n",
       "      <td>5.352577</td>\n",
       "      <td>0.070750</td>\n",
       "      <td>0.329982</td>\n",
       "    </tr>\n",
       "    <tr>\n",
       "      <th>min</th>\n",
       "      <td>78.000000</td>\n",
       "      <td>48.000000</td>\n",
       "      <td>12.000000</td>\n",
       "      <td>1.900000</td>\n",
       "      <td>19.000000</td>\n",
       "      <td>0.000000</td>\n",
       "      <td>55.000000</td>\n",
       "      <td>99.000000</td>\n",
       "      <td>15.200000</td>\n",
       "      <td>90.000000</td>\n",
       "      <td>48.000000</td>\n",
       "      <td>26.000000</td>\n",
       "      <td>30.000000</td>\n",
       "      <td>0.680000</td>\n",
       "      <td>0.000000</td>\n",
       "    </tr>\n",
       "    <tr>\n",
       "      <th>25%</th>\n",
       "      <td>179.000000</td>\n",
       "      <td>80.000000</td>\n",
       "      <td>39.000000</td>\n",
       "      <td>3.200000</td>\n",
       "      <td>33.500000</td>\n",
       "      <td>0.000000</td>\n",
       "      <td>63.000000</td>\n",
       "      <td>147.500000</td>\n",
       "      <td>23.800000</td>\n",
       "      <td>120.000000</td>\n",
       "      <td>74.000000</td>\n",
       "      <td>33.000000</td>\n",
       "      <td>39.000000</td>\n",
       "      <td>0.830000</td>\n",
       "      <td>1.000000</td>\n",
       "    </tr>\n",
       "    <tr>\n",
       "      <th>50%</th>\n",
       "      <td>203.000000</td>\n",
       "      <td>88.000000</td>\n",
       "      <td>46.000000</td>\n",
       "      <td>4.100000</td>\n",
       "      <td>43.000000</td>\n",
       "      <td>0.000000</td>\n",
       "      <td>66.000000</td>\n",
       "      <td>170.000000</td>\n",
       "      <td>27.800000</td>\n",
       "      <td>134.000000</td>\n",
       "      <td>82.000000</td>\n",
       "      <td>37.000000</td>\n",
       "      <td>42.000000</td>\n",
       "      <td>0.880000</td>\n",
       "      <td>1.000000</td>\n",
       "    </tr>\n",
       "    <tr>\n",
       "      <th>75%</th>\n",
       "      <td>227.000000</td>\n",
       "      <td>103.000000</td>\n",
       "      <td>59.000000</td>\n",
       "      <td>5.300000</td>\n",
       "      <td>59.000000</td>\n",
       "      <td>1.000000</td>\n",
       "      <td>69.000000</td>\n",
       "      <td>197.500000</td>\n",
       "      <td>31.800000</td>\n",
       "      <td>145.000000</td>\n",
       "      <td>90.000000</td>\n",
       "      <td>41.000000</td>\n",
       "      <td>46.000000</td>\n",
       "      <td>0.930000</td>\n",
       "      <td>1.000000</td>\n",
       "    </tr>\n",
       "    <tr>\n",
       "      <th>max</th>\n",
       "      <td>337.000000</td>\n",
       "      <td>267.000000</td>\n",
       "      <td>100.000000</td>\n",
       "      <td>9.400000</td>\n",
       "      <td>92.000000</td>\n",
       "      <td>1.000000</td>\n",
       "      <td>76.000000</td>\n",
       "      <td>289.000000</td>\n",
       "      <td>48.400000</td>\n",
       "      <td>200.000000</td>\n",
       "      <td>122.000000</td>\n",
       "      <td>53.000000</td>\n",
       "      <td>59.000000</td>\n",
       "      <td>1.090000</td>\n",
       "      <td>1.000000</td>\n",
       "    </tr>\n",
       "  </tbody>\n",
       "</table>\n",
       "</div>"
      ],
      "text/plain": [
       "       cholesterol     glucose    hdl_chol  chol_hdl_ratio         age  \\\n",
       "count   355.000000  355.000000  355.000000      355.000000  355.000000   \n",
       "mean    204.481690   98.653521   50.104225        4.414085   45.940845   \n",
       "std      39.787168   35.818531   15.512811        1.453662   16.203487   \n",
       "min      78.000000   48.000000   12.000000        1.900000   19.000000   \n",
       "25%     179.000000   80.000000   39.000000        3.200000   33.500000   \n",
       "50%     203.000000   88.000000   46.000000        4.100000   43.000000   \n",
       "75%     227.000000  103.000000   59.000000        5.300000   59.000000   \n",
       "max     337.000000  267.000000  100.000000        9.400000   92.000000   \n",
       "\n",
       "           gender      height      weight         bmi  systolic_bp  \\\n",
       "count  355.000000  355.000000  355.000000  355.000000   355.000000   \n",
       "mean     0.419718   65.940845  174.723944   28.351831   134.856338   \n",
       "std      0.494209    3.898340   37.491353    6.140765    20.442539   \n",
       "min      0.000000   55.000000   99.000000   15.200000    90.000000   \n",
       "25%      0.000000   63.000000  147.500000   23.800000   120.000000   \n",
       "50%      0.000000   66.000000  170.000000   27.800000   134.000000   \n",
       "75%      1.000000   69.000000  197.500000   31.800000   145.000000   \n",
       "max      1.000000   76.000000  289.000000   48.400000   200.000000   \n",
       "\n",
       "       diastolic_bp       waist         hip  waist_hip_ratio    diabetes  \n",
       "count    355.000000  355.000000  355.000000       355.000000  355.000000  \n",
       "mean      82.783099   37.416901   42.614085         0.878648    0.876056  \n",
       "std       13.449455    5.445752    5.352577         0.070750    0.329982  \n",
       "min       48.000000   26.000000   30.000000         0.680000    0.000000  \n",
       "25%       74.000000   33.000000   39.000000         0.830000    1.000000  \n",
       "50%       82.000000   37.000000   42.000000         0.880000    1.000000  \n",
       "75%       90.000000   41.000000   46.000000         0.930000    1.000000  \n",
       "max      122.000000   53.000000   59.000000         1.090000    1.000000  "
      ]
     },
     "execution_count": 71,
     "metadata": {},
     "output_type": "execute_result"
    }
   ],
   "source": [
    "data.describe()"
   ]
  },
  {
   "cell_type": "code",
   "execution_count": 72,
   "metadata": {},
   "outputs": [
    {
     "data": {
      "text/html": [
       "<div>\n",
       "<style scoped>\n",
       "    .dataframe tbody tr th:only-of-type {\n",
       "        vertical-align: middle;\n",
       "    }\n",
       "\n",
       "    .dataframe tbody tr th {\n",
       "        vertical-align: top;\n",
       "    }\n",
       "\n",
       "    .dataframe thead th {\n",
       "        text-align: right;\n",
       "    }\n",
       "</style>\n",
       "<table border=\"1\" class=\"dataframe\">\n",
       "  <thead>\n",
       "    <tr style=\"text-align: right;\">\n",
       "      <th></th>\n",
       "      <th>diabetes</th>\n",
       "      <th>cholesterol</th>\n",
       "      <th>glucose</th>\n",
       "      <th>hdl_chol</th>\n",
       "      <th>chol_hdl_ratio</th>\n",
       "      <th>age</th>\n",
       "      <th>gender</th>\n",
       "      <th>height</th>\n",
       "      <th>weight</th>\n",
       "      <th>bmi</th>\n",
       "      <th>systolic_bp</th>\n",
       "      <th>diastolic_bp</th>\n",
       "      <th>waist</th>\n",
       "      <th>hip</th>\n",
       "      <th>waist_hip_ratio</th>\n",
       "    </tr>\n",
       "  </thead>\n",
       "  <tbody>\n",
       "    <tr>\n",
       "      <th>0</th>\n",
       "      <td>0</td>\n",
       "      <td>217.181818</td>\n",
       "      <td>165.431818</td>\n",
       "      <td>46.045455</td>\n",
       "      <td>5.134091</td>\n",
       "      <td>58.250000</td>\n",
       "      <td>0.409091</td>\n",
       "      <td>65.659091</td>\n",
       "      <td>186.545455</td>\n",
       "      <td>30.495455</td>\n",
       "      <td>145.681818</td>\n",
       "      <td>84.704545</td>\n",
       "      <td>40.250000</td>\n",
       "      <td>44.659091</td>\n",
       "      <td>0.902500</td>\n",
       "    </tr>\n",
       "    <tr>\n",
       "      <th>1</th>\n",
       "      <td>1</td>\n",
       "      <td>202.684887</td>\n",
       "      <td>89.205788</td>\n",
       "      <td>50.678457</td>\n",
       "      <td>4.312219</td>\n",
       "      <td>44.199357</td>\n",
       "      <td>0.421222</td>\n",
       "      <td>65.980707</td>\n",
       "      <td>173.051447</td>\n",
       "      <td>28.048553</td>\n",
       "      <td>133.324759</td>\n",
       "      <td>82.511254</td>\n",
       "      <td>37.016077</td>\n",
       "      <td>42.324759</td>\n",
       "      <td>0.875273</td>\n",
       "    </tr>\n",
       "  </tbody>\n",
       "</table>\n",
       "</div>"
      ],
      "text/plain": [
       "   diabetes  cholesterol     glucose   hdl_chol  chol_hdl_ratio        age  \\\n",
       "0         0   217.181818  165.431818  46.045455        5.134091  58.250000   \n",
       "1         1   202.684887   89.205788  50.678457        4.312219  44.199357   \n",
       "\n",
       "     gender     height      weight        bmi  systolic_bp  diastolic_bp  \\\n",
       "0  0.409091  65.659091  186.545455  30.495455   145.681818     84.704545   \n",
       "1  0.421222  65.980707  173.051447  28.048553   133.324759     82.511254   \n",
       "\n",
       "       waist        hip  waist_hip_ratio  \n",
       "0  40.250000  44.659091         0.902500  \n",
       "1  37.016077  42.324759         0.875273  "
      ]
     },
     "execution_count": 72,
     "metadata": {},
     "output_type": "execute_result"
    }
   ],
   "source": [
    "summary = data.groupby(\"diabetes\")\n",
    "summary.mean().reset_index()"
   ]
  },
  {
   "cell_type": "markdown",
   "metadata": {},
   "source": [
    "# Visualisasi"
   ]
  },
  {
   "cell_type": "code",
   "execution_count": 12,
   "metadata": {
    "scrolled": true
   },
   "outputs": [
    {
     "data": {
      "text/plain": [
       "<AxesSubplot:ylabel='diabetes'>"
      ]
     },
     "execution_count": 12,
     "metadata": {},
     "output_type": "execute_result"
    },
    {
     "data": {
      "image/png": "[encoded data removed]",
      "text/plain": [
       "<Figure size 432x288 with 1 Axes>"
      ]
     },
     "metadata": {},
     "output_type": "display_data"
    }
   ],
   "source": [
    "diabetes=data['diabetes'].value_counts()\n",
    "diabetes.plot.pie(autopct='%1.1f%%',shadow=True)"
   ]
  },
  {
   "cell_type": "code",
   "execution_count": 13,
   "metadata": {
    "scrolled": false
   },
   "outputs": [
    {
     "data": {
      "image/png": "[encoded data removed]",
      "text/plain": [
       "<Figure size 864x504 with 2 Axes>"
      ]
     },
     "metadata": {
      "needs_background": "light"
     },
     "output_type": "display_data"
    }
   ],
   "source": [
    "#melihat korelasi\n",
    "corr=data.corr()\n",
    "corr\n",
    "#visualisasi\n",
    "f,ax=plt.subplots(figsize=(12,7))\n",
    "sns.heatmap(corr, annot=True, linewidth=0.01, fmt='.1f', ax=ax)\n",
    "plt.title(\"Correlation between columns of data diabetes\")\n",
    "plt.show()"
   ]
  },
  {
   "cell_type": "code",
   "execution_count": 14,
   "metadata": {
    "scrolled": false
   },
   "outputs": [
    {
     "data": {
      "text/plain": [
       "<AxesSubplot:title={'center':'glucose'}, xlabel='diabetes'>"
      ]
     },
     "execution_count": 14,
     "metadata": {},
     "output_type": "execute_result"
    },
    {
     "data": {
      "image/png": "[encoded data removed]",
      "text/plain": [
       "<Figure size 576x360 with 1 Axes>"
      ]
     },
     "metadata": {
      "needs_background": "light"
     },
     "output_type": "display_data"
    }
   ],
   "source": [
    "data.boxplot(\"glucose\",by=\"diabetes\",figsize=(8,5))"
   ]
  },
  {
   "cell_type": "markdown",
   "metadata": {},
   "source": [
    "# MODEL SELECTION"
   ]
  },
  {
   "cell_type": "code",
   "execution_count": 52,
   "metadata": {},
   "outputs": [
    {
     "data": {
      "text/html": [
       "<div>\n",
       "<style scoped>\n",
       "    .dataframe tbody tr th:only-of-type {\n",
       "        vertical-align: middle;\n",
       "    }\n",
       "\n",
       "    .dataframe tbody tr th {\n",
       "        vertical-align: top;\n",
       "    }\n",
       "\n",
       "    .dataframe thead th {\n",
       "        text-align: right;\n",
       "    }\n",
       "</style>\n",
       "<table border=\"1\" class=\"dataframe\">\n",
       "  <thead>\n",
       "    <tr style=\"text-align: right;\">\n",
       "      <th></th>\n",
       "      <th>cholesterol</th>\n",
       "      <th>glucose</th>\n",
       "      <th>hdl_chol</th>\n",
       "      <th>chol_hdl_ratio</th>\n",
       "      <th>age</th>\n",
       "      <th>gender</th>\n",
       "      <th>height</th>\n",
       "      <th>weight</th>\n",
       "      <th>bmi</th>\n",
       "      <th>systolic_bp</th>\n",
       "      <th>diastolic_bp</th>\n",
       "      <th>waist</th>\n",
       "      <th>hip</th>\n",
       "      <th>waist_hip_ratio</th>\n",
       "    </tr>\n",
       "  </thead>\n",
       "  <tbody>\n",
       "    <tr>\n",
       "      <th>382</th>\n",
       "      <td>271</td>\n",
       "      <td>121</td>\n",
       "      <td>40</td>\n",
       "      <td>6.8</td>\n",
       "      <td>81</td>\n",
       "      <td>0</td>\n",
       "      <td>64</td>\n",
       "      <td>158</td>\n",
       "      <td>27.1</td>\n",
       "      <td>146</td>\n",
       "      <td>76</td>\n",
       "      <td>36</td>\n",
       "      <td>43</td>\n",
       "      <td>0.84</td>\n",
       "    </tr>\n",
       "    <tr>\n",
       "      <th>383</th>\n",
       "      <td>240</td>\n",
       "      <td>88</td>\n",
       "      <td>49</td>\n",
       "      <td>4.9</td>\n",
       "      <td>82</td>\n",
       "      <td>0</td>\n",
       "      <td>63</td>\n",
       "      <td>170</td>\n",
       "      <td>30.1</td>\n",
       "      <td>180</td>\n",
       "      <td>86</td>\n",
       "      <td>41</td>\n",
       "      <td>46</td>\n",
       "      <td>0.89</td>\n",
       "    </tr>\n",
       "    <tr>\n",
       "      <th>384</th>\n",
       "      <td>255</td>\n",
       "      <td>112</td>\n",
       "      <td>34</td>\n",
       "      <td>7.5</td>\n",
       "      <td>82</td>\n",
       "      <td>1</td>\n",
       "      <td>66</td>\n",
       "      <td>163</td>\n",
       "      <td>26.3</td>\n",
       "      <td>179</td>\n",
       "      <td>89</td>\n",
       "      <td>37</td>\n",
       "      <td>43</td>\n",
       "      <td>0.86</td>\n",
       "    </tr>\n",
       "    <tr>\n",
       "      <th>385</th>\n",
       "      <td>227</td>\n",
       "      <td>105</td>\n",
       "      <td>44</td>\n",
       "      <td>5.2</td>\n",
       "      <td>83</td>\n",
       "      <td>0</td>\n",
       "      <td>59</td>\n",
       "      <td>125</td>\n",
       "      <td>25.2</td>\n",
       "      <td>150</td>\n",
       "      <td>90</td>\n",
       "      <td>35</td>\n",
       "      <td>40</td>\n",
       "      <td>0.88</td>\n",
       "    </tr>\n",
       "    <tr>\n",
       "      <th>389</th>\n",
       "      <td>165</td>\n",
       "      <td>94</td>\n",
       "      <td>69</td>\n",
       "      <td>2.4</td>\n",
       "      <td>92</td>\n",
       "      <td>0</td>\n",
       "      <td>62</td>\n",
       "      <td>217</td>\n",
       "      <td>39.7</td>\n",
       "      <td>160</td>\n",
       "      <td>82</td>\n",
       "      <td>51</td>\n",
       "      <td>51</td>\n",
       "      <td>1.00</td>\n",
       "    </tr>\n",
       "  </tbody>\n",
       "</table>\n",
       "</div>"
      ],
      "text/plain": [
       "     cholesterol  glucose  hdl_chol  chol_hdl_ratio  age  gender  height  \\\n",
       "382          271      121        40             6.8   81       0      64   \n",
       "383          240       88        49             4.9   82       0      63   \n",
       "384          255      112        34             7.5   82       1      66   \n",
       "385          227      105        44             5.2   83       0      59   \n",
       "389          165       94        69             2.4   92       0      62   \n",
       "\n",
       "     weight   bmi  systolic_bp  diastolic_bp  waist  hip  waist_hip_ratio  \n",
       "382     158  27.1          146            76     36   43             0.84  \n",
       "383     170  30.1          180            86     41   46             0.89  \n",
       "384     163  26.3          179            89     37   43             0.86  \n",
       "385     125  25.2          150            90     35   40             0.88  \n",
       "389     217  39.7          160            82     51   51             1.00  "
      ]
     },
     "execution_count": 52,
     "metadata": {},
     "output_type": "execute_result"
    }
   ],
   "source": [
    "x=data.drop('diabetes', axis=1)\n",
    "x.tail()"
   ]
  },
  {
   "cell_type": "code",
   "execution_count": 53,
   "metadata": {},
   "outputs": [
    {
     "data": {
      "text/plain": [
       "0    1\n",
       "1    1\n",
       "2    1\n",
       "3    1\n",
       "4    1\n",
       "Name: diabetes, dtype: int32"
      ]
     },
     "execution_count": 53,
     "metadata": {},
     "output_type": "execute_result"
    }
   ],
   "source": [
    "y=data['diabetes']\n",
    "y.head()"
   ]
  },
  {
   "cell_type": "code",
   "execution_count": 133,
   "metadata": {
    "scrolled": false
   },
   "outputs": [
    {
     "name": "stdout",
     "output_type": "stream",
     "text": [
      "Eigenvalues \n",
      "[4.08108741e+00 2.26958732e+00 1.84179661e+00 1.57098758e+00\n",
      " 1.07479110e+00 1.00731729e+00 8.49234257e-01 5.95246030e-01\n",
      " 3.06562726e-01 2.63315665e-01 1.28602629e-01 4.37199377e-02\n",
      " 5.23875992e-03 2.06069934e-03]\n",
      "Eigenvectors \n",
      "[[ 1.01111993e-01  7.77362029e-02 -3.22780365e-01 -2.38630443e-01\n",
      "  -5.92329094e-01 -4.89545918e-01 -2.00035164e-01  6.51196652e-02\n",
      "   2.38426937e-02  1.10206487e-01 -1.69544354e-03  4.18409287e-01\n",
      "  -7.25876038e-03 -1.53474614e-03]\n",
      " [ 1.50470259e-01  1.50948801e-01 -1.05051816e-01 -2.38750710e-01\n",
      "   4.78295664e-01  2.04372659e-02 -6.66069134e-01  4.57819018e-01\n",
      "  -4.10411441e-02  4.11569568e-02  1.57205013e-02  2.11794522e-02\n",
      "  -5.52943350e-03 -2.38928058e-04]\n",
      " [-2.20302896e-01 -8.73514156e-02 -3.75311685e-01  4.02646126e-01\n",
      "   1.48637734e-02 -4.82449804e-01 -1.55890759e-01  2.75028634e-02\n",
      "  -4.87938810e-02  2.22623152e-02 -2.72299256e-02 -6.15568917e-01\n",
      "   1.57945334e-02  4.90293169e-03]\n",
      " [ 2.57541865e-01  1.72021189e-01  1.48393462e-01 -5.26714823e-01\n",
      "  -3.73266922e-01  1.28341872e-01  6.68629165e-03  5.07965251e-02\n",
      "   6.03508658e-02 -1.15132118e-02 -4.56487702e-02 -6.63488005e-01\n",
      "   9.82622651e-03  5.95571973e-03]\n",
      " [ 9.41931269e-02  2.97492804e-01 -3.40500284e-01 -2.94439469e-01\n",
      "   3.46482362e-01 -1.65289760e-01  5.77390981e-02 -5.83790418e-01\n",
      "   5.98852607e-02 -4.42481689e-01 -9.24525899e-02  1.98688543e-02\n",
      "   1.11089922e-02 -5.73607535e-03]\n",
      " [-2.63174676e-02  5.39208253e-01  2.27420921e-01  1.80425721e-01\n",
      "  -1.13261112e-01 -3.65718273e-02 -1.03036450e-01 -1.23541947e-01\n",
      "  -6.92303656e-01 -2.45135568e-02  3.22808538e-01 -1.20756619e-03\n",
      "   1.22986652e-02  3.16499491e-04]\n",
      " [-2.52475310e-03  4.23022659e-01  3.27960029e-01  3.42603716e-01\n",
      "  -1.17499217e-01 -2.47333350e-02 -3.18336589e-01 -1.75448606e-01\n",
      "   5.42222585e-01  1.05814673e-02 -1.64842455e-01  9.57552819e-03\n",
      "  -3.55458128e-01 -4.28912914e-02]\n",
      " [ 4.37067557e-01 -2.49432756e-02  1.64660866e-01  2.65459992e-01\n",
      "  -4.25041882e-02 -4.90562068e-02 -1.34138043e-01 -8.91832128e-02\n",
      "  -8.70957299e-02 -3.28745564e-02 -4.98325408e-01  3.27049324e-02\n",
      "   6.45443391e-01  7.71128966e-02]\n",
      " [ 4.35978557e-01 -2.54409807e-01 -1.93114472e-02  8.48384131e-02\n",
      "   1.62738938e-02 -3.61152268e-02  2.75778425e-02 -1.94142003e-02\n",
      "  -3.83027287e-01 -5.45510771e-02 -3.70563110e-01 -4.75088234e-03\n",
      "  -6.63640982e-01 -8.64673145e-02]\n",
      " [ 1.47320860e-01  2.65068512e-01 -4.90532124e-01  9.73178838e-02\n",
      "   3.35594077e-02  3.80658674e-01  8.11945569e-02 -1.88818467e-01\n",
      "   1.94639106e-03  6.80631404e-01 -7.50613868e-02 -2.64236535e-02\n",
      "  -5.00416111e-03  7.07979917e-03]\n",
      " [ 1.23643425e-01  1.77577970e-01 -4.15831078e-01  3.03009480e-01\n",
      "  -2.57120504e-01  4.12143757e-01  6.34676038e-02  3.59217803e-01\n",
      "   6.79329900e-02 -5.57821232e-01  5.45547279e-02  2.51364269e-02\n",
      "   3.74582814e-03 -2.76300930e-03]\n",
      " [ 4.61753438e-01 -8.93583115e-03  3.43160128e-02  1.20355908e-01\n",
      "   1.15569103e-01 -1.90066675e-01  1.62440048e-01  4.38170688e-02\n",
      "   1.71153586e-01  5.67886817e-02  4.17142238e-01 -2.66741079e-02\n",
      "   9.36339627e-02 -6.90831049e-01]\n",
      " [ 4.24972018e-01 -2.55087205e-01 -2.39481508e-03  1.26584744e-01\n",
      "  -8.01862899e-03  4.76560836e-03 -1.60302961e-01 -2.19997168e-01\n",
      "   1.28773145e-01 -6.47392737e-03  5.31120815e-01 -3.53783030e-02\n",
      "  -5.58470666e-02  6.00860044e-01]\n",
      " [ 1.75466868e-01  3.78765370e-01  6.68750051e-02  2.03601175e-02\n",
      "   2.26753287e-01 -3.56097383e-01  5.43364202e-01  4.15486839e-01\n",
      "   1.00288737e-01  8.53374793e-02 -8.15243282e-02  2.16884471e-02\n",
      "  -6.32752317e-02  3.82497488e-01]]\n"
     ]
    }
   ],
   "source": [
    "#Principal Component Analysis\n",
    "from sklearn.decomposition import PCA\n",
    "import matplotlib.pyplot as plt\n",
    "from sklearn.preprocessing import scale\n",
    "\n",
    "#Standarization Data\n",
    "from sklearn.preprocessing import StandardScaler\n",
    "x_std=StandardScaler().fit_transform(x)\n",
    "\n",
    "#Calculate Covariance Matrix\n",
    "cov_mat=np.cov(x_std.T)\n",
    "\n",
    "#Perform eigen decomposition on covariance matrix\n",
    "eig_vals, eig_vecs= np.linalg.eig(cov_mat)\n",
    "print('Eigenvalues \\n%s' %eig_vals)\n",
    "print('Eigenvectors \\n%s' %eig_vecs)"
   ]
  },
  {
   "cell_type": "code",
   "execution_count": 136,
   "metadata": {},
   "outputs": [
    {
     "name": "stdout",
     "output_type": "stream",
     "text": [
      "[[-2.55577908e+00 -1.74543447e+00 -5.93828121e-01 ... -9.99029905e-02\n",
      "  -8.57778357e-02 -1.34164588e-02]\n",
      " [-2.10526327e+00 -2.53973791e+00 -1.71456847e+00 ... -3.89162494e-02\n",
      "  -3.33288111e-02  1.62575678e-02]\n",
      " [ 4.34676584e-02 -1.53689103e+00 -1.28089242e+00 ... -1.21065223e-01\n",
      "   9.51280505e-04  3.50456819e-03]\n",
      " ...\n",
      " [ 1.18218973e+00  2.54570925e+00  1.54920549e+00 ...  2.48011781e-01\n",
      "  -4.33316163e-02  6.66035866e-03]\n",
      " [-4.85685327e-01  2.58862706e-01  2.34027926e+00 ... -1.36189642e-01\n",
      "  -1.09403476e-01  2.97328636e-02]\n",
      " [ 3.14306291e+00 -4.36894410e-01  2.05686736e+00 ...  2.91689920e-01\n",
      "   7.35411536e-02 -1.63806619e-01]]\n"
     ]
    }
   ],
   "source": [
    "pca=PCA(n_components=14)\n",
    "x_pca=pca.fit(x_std).transform(x_std)\n",
    "print(x_pca)"
   ]
  },
  {
   "cell_type": "code",
   "execution_count": 137,
   "metadata": {
    "scrolled": false
   },
   "outputs": [
    {
     "name": "stdout",
     "output_type": "stream",
     "text": [
      "[4.08108741e+00 2.26958732e+00 1.84179661e+00 1.57098758e+00\n",
      " 1.07479110e+00 1.00731729e+00 8.49234257e-01 5.95246030e-01\n",
      " 3.06562726e-01 2.63315665e-01 1.28602629e-01 4.37199377e-02\n",
      " 5.23875992e-03 2.06069934e-03]\n"
     ]
    },
    {
     "data": {
      "image/png": "[encoded data removed]",
      "text/plain": [
       "<Figure size 432x288 with 1 Axes>"
      ]
     },
     "metadata": {
      "needs_background": "light"
     },
     "output_type": "display_data"
    }
   ],
   "source": [
    "#print scree ploot\n",
    "eigen_val=pca.explained_variance_\n",
    "plt.xlabel('Principal Component')\n",
    "plt.ylabel('Eigen Value')\n",
    "plt.title('Scree Plot of PCA: Component Eigen Value')\n",
    "plt.plot(eigen_val)\n",
    "print(eigen_val)"
   ]
  },
  {
   "cell_type": "code",
   "execution_count": 138,
   "metadata": {
    "scrolled": true
   },
   "outputs": [
    {
     "name": "stdout",
     "output_type": "stream",
     "text": [
      "[ 29.07  45.24  58.36  69.55  77.21  84.38  90.43  94.67  96.85  98.73\n",
      "  99.65  99.96 100.   100.01]\n"
     ]
    },
    {
     "data": {
      "image/png": "[encoded data removed]",
      "text/plain": [
       "<Figure size 432x288 with 1 Axes>"
      ]
     },
     "metadata": {
      "needs_background": "light"
     },
     "output_type": "display_data"
    }
   ],
   "source": [
    "#cumulative variance explains (proportion)\n",
    "var1=np.cumsum(np.round(pca.explained_variance_ratio_,decimals=4)*100)\n",
    "plt.xlabel('Principal Component')\n",
    "plt.ylabel('Cumulative Variance')\n",
    "plt.title('Explained Variance of PCA by Component')\n",
    "plt.plot(var1)\n",
    "print(var1)"
   ]
  },
  {
   "cell_type": "code",
   "execution_count": 139,
   "metadata": {},
   "outputs": [
    {
     "name": "stdout",
     "output_type": "stream",
     "text": [
      "[[-2.55577908 -1.74543447 -0.59382812 -0.81184592 -0.2861758  -0.23663039]\n",
      " [-2.10526327 -2.53973791 -1.71456847 -0.8143872   0.73255084 -0.46444753]\n",
      " [ 0.04346766 -1.53689103 -1.28089242  0.60135371 -0.64193146  0.99777936]\n",
      " ...\n",
      " [ 1.18218973  2.54570925  1.54920549 -2.13589812 -0.85432692 -0.89810629]\n",
      " [-0.48568533  0.25886271  2.34027926 -2.3362778   0.53230769 -0.3452926 ]\n",
      " [ 3.14306291 -0.43689441  2.05686736  1.24489043  2.96798643  1.45343469]]\n"
     ]
    }
   ],
   "source": [
    "#calculate eigen using Sklearn (As Performed Above)\n",
    "pca=PCA(n_components=6)\n",
    "x_pca=pca.fit(x_std).transform(x_std)\n",
    "print(x_pca)"
   ]
  },
  {
   "cell_type": "code",
   "execution_count": 140,
   "metadata": {},
   "outputs": [
    {
     "data": {
      "text/html": [
       "<div>\n",
       "<style scoped>\n",
       "    .dataframe tbody tr th:only-of-type {\n",
       "        vertical-align: middle;\n",
       "    }\n",
       "\n",
       "    .dataframe tbody tr th {\n",
       "        vertical-align: top;\n",
       "    }\n",
       "\n",
       "    .dataframe thead th {\n",
       "        text-align: right;\n",
       "    }\n",
       "</style>\n",
       "<table border=\"1\" class=\"dataframe\">\n",
       "  <thead>\n",
       "    <tr style=\"text-align: right;\">\n",
       "      <th></th>\n",
       "      <th>Component 1</th>\n",
       "      <th>Component 2</th>\n",
       "      <th>Component 3</th>\n",
       "      <th>Component 4</th>\n",
       "      <th>Component 5</th>\n",
       "      <th>Component 6</th>\n",
       "      <th>diabetes</th>\n",
       "    </tr>\n",
       "  </thead>\n",
       "  <tbody>\n",
       "    <tr>\n",
       "      <th>0</th>\n",
       "      <td>-2.555779</td>\n",
       "      <td>-1.745434</td>\n",
       "      <td>-0.593828</td>\n",
       "      <td>-0.811846</td>\n",
       "      <td>-0.286176</td>\n",
       "      <td>-0.236630</td>\n",
       "      <td>1.0</td>\n",
       "    </tr>\n",
       "    <tr>\n",
       "      <th>1</th>\n",
       "      <td>-2.105263</td>\n",
       "      <td>-2.539738</td>\n",
       "      <td>-1.714568</td>\n",
       "      <td>-0.814387</td>\n",
       "      <td>0.732551</td>\n",
       "      <td>-0.464448</td>\n",
       "      <td>1.0</td>\n",
       "    </tr>\n",
       "    <tr>\n",
       "      <th>2</th>\n",
       "      <td>0.043468</td>\n",
       "      <td>-1.536891</td>\n",
       "      <td>-1.280892</td>\n",
       "      <td>0.601354</td>\n",
       "      <td>-0.641931</td>\n",
       "      <td>0.997779</td>\n",
       "      <td>1.0</td>\n",
       "    </tr>\n",
       "    <tr>\n",
       "      <th>3</th>\n",
       "      <td>-3.227135</td>\n",
       "      <td>-1.671331</td>\n",
       "      <td>0.058947</td>\n",
       "      <td>-0.302618</td>\n",
       "      <td>-0.443507</td>\n",
       "      <td>0.701785</td>\n",
       "      <td>1.0</td>\n",
       "    </tr>\n",
       "    <tr>\n",
       "      <th>4</th>\n",
       "      <td>-2.793502</td>\n",
       "      <td>-0.836651</td>\n",
       "      <td>-0.429165</td>\n",
       "      <td>1.577037</td>\n",
       "      <td>0.089615</td>\n",
       "      <td>-0.493344</td>\n",
       "      <td>1.0</td>\n",
       "    </tr>\n",
       "  </tbody>\n",
       "</table>\n",
       "</div>"
      ],
      "text/plain": [
       "   Component 1  Component 2  Component 3  Component 4  Component 5  \\\n",
       "0    -2.555779    -1.745434    -0.593828    -0.811846    -0.286176   \n",
       "1    -2.105263    -2.539738    -1.714568    -0.814387     0.732551   \n",
       "2     0.043468    -1.536891    -1.280892     0.601354    -0.641931   \n",
       "3    -3.227135    -1.671331     0.058947    -0.302618    -0.443507   \n",
       "4    -2.793502    -0.836651    -0.429165     1.577037     0.089615   \n",
       "\n",
       "   Component 6  diabetes  \n",
       "0    -0.236630       1.0  \n",
       "1    -0.464448       1.0  \n",
       "2     0.997779       1.0  \n",
       "3     0.701785       1.0  \n",
       "4    -0.493344       1.0  "
      ]
     },
     "execution_count": 140,
     "metadata": {},
     "output_type": "execute_result"
    }
   ],
   "source": [
    "#concate new features with target\n",
    "feature1=pd.DataFrame(x_pca)\n",
    "feature1.columns=['Component 1', 'Component 2', 'Component 3', 'Component 4', 'Component 5', 'Component 6']\n",
    "new_data=pd.concat([feature1, y], axis=1)\n",
    "new_data.head()"
   ]
  },
  {
   "cell_type": "code",
   "execution_count": 141,
   "metadata": {},
   "outputs": [
    {
     "data": {
      "text/html": [
       "<div>\n",
       "<style scoped>\n",
       "    .dataframe tbody tr th:only-of-type {\n",
       "        vertical-align: middle;\n",
       "    }\n",
       "\n",
       "    .dataframe tbody tr th {\n",
       "        vertical-align: top;\n",
       "    }\n",
       "\n",
       "    .dataframe thead th {\n",
       "        text-align: right;\n",
       "    }\n",
       "</style>\n",
       "<table border=\"1\" class=\"dataframe\">\n",
       "  <thead>\n",
       "    <tr style=\"text-align: right;\">\n",
       "      <th></th>\n",
       "      <th>Component 1</th>\n",
       "      <th>Component 2</th>\n",
       "      <th>Component 3</th>\n",
       "      <th>Component 4</th>\n",
       "      <th>Component 5</th>\n",
       "      <th>Component 6</th>\n",
       "    </tr>\n",
       "  </thead>\n",
       "  <tbody>\n",
       "    <tr>\n",
       "      <th>0</th>\n",
       "      <td>0.101112</td>\n",
       "      <td>0.077736</td>\n",
       "      <td>0.322780</td>\n",
       "      <td>-0.238630</td>\n",
       "      <td>-0.592329</td>\n",
       "      <td>0.489546</td>\n",
       "    </tr>\n",
       "    <tr>\n",
       "      <th>1</th>\n",
       "      <td>0.150470</td>\n",
       "      <td>0.150949</td>\n",
       "      <td>0.105052</td>\n",
       "      <td>-0.238751</td>\n",
       "      <td>0.478296</td>\n",
       "      <td>-0.020437</td>\n",
       "    </tr>\n",
       "    <tr>\n",
       "      <th>2</th>\n",
       "      <td>-0.220303</td>\n",
       "      <td>-0.087351</td>\n",
       "      <td>0.375312</td>\n",
       "      <td>0.402646</td>\n",
       "      <td>0.014864</td>\n",
       "      <td>0.482450</td>\n",
       "    </tr>\n",
       "    <tr>\n",
       "      <th>3</th>\n",
       "      <td>0.257542</td>\n",
       "      <td>0.172021</td>\n",
       "      <td>-0.148393</td>\n",
       "      <td>-0.526715</td>\n",
       "      <td>-0.373267</td>\n",
       "      <td>-0.128342</td>\n",
       "    </tr>\n",
       "    <tr>\n",
       "      <th>4</th>\n",
       "      <td>0.094193</td>\n",
       "      <td>0.297493</td>\n",
       "      <td>0.340500</td>\n",
       "      <td>-0.294439</td>\n",
       "      <td>0.346482</td>\n",
       "      <td>0.165290</td>\n",
       "    </tr>\n",
       "    <tr>\n",
       "      <th>5</th>\n",
       "      <td>-0.026317</td>\n",
       "      <td>0.539208</td>\n",
       "      <td>-0.227421</td>\n",
       "      <td>0.180426</td>\n",
       "      <td>-0.113261</td>\n",
       "      <td>0.036572</td>\n",
       "    </tr>\n",
       "    <tr>\n",
       "      <th>6</th>\n",
       "      <td>-0.002525</td>\n",
       "      <td>0.423023</td>\n",
       "      <td>-0.327960</td>\n",
       "      <td>0.342604</td>\n",
       "      <td>-0.117499</td>\n",
       "      <td>0.024733</td>\n",
       "    </tr>\n",
       "    <tr>\n",
       "      <th>7</th>\n",
       "      <td>0.437068</td>\n",
       "      <td>-0.024943</td>\n",
       "      <td>-0.164661</td>\n",
       "      <td>0.265460</td>\n",
       "      <td>-0.042504</td>\n",
       "      <td>0.049056</td>\n",
       "    </tr>\n",
       "    <tr>\n",
       "      <th>8</th>\n",
       "      <td>0.435979</td>\n",
       "      <td>-0.254410</td>\n",
       "      <td>0.019311</td>\n",
       "      <td>0.084838</td>\n",
       "      <td>0.016274</td>\n",
       "      <td>0.036115</td>\n",
       "    </tr>\n",
       "    <tr>\n",
       "      <th>9</th>\n",
       "      <td>0.147321</td>\n",
       "      <td>0.265069</td>\n",
       "      <td>0.490532</td>\n",
       "      <td>0.097318</td>\n",
       "      <td>0.033559</td>\n",
       "      <td>-0.380659</td>\n",
       "    </tr>\n",
       "    <tr>\n",
       "      <th>10</th>\n",
       "      <td>0.123643</td>\n",
       "      <td>0.177578</td>\n",
       "      <td>0.415831</td>\n",
       "      <td>0.303009</td>\n",
       "      <td>-0.257121</td>\n",
       "      <td>-0.412144</td>\n",
       "    </tr>\n",
       "    <tr>\n",
       "      <th>11</th>\n",
       "      <td>0.461753</td>\n",
       "      <td>-0.008936</td>\n",
       "      <td>-0.034316</td>\n",
       "      <td>0.120356</td>\n",
       "      <td>0.115569</td>\n",
       "      <td>0.190067</td>\n",
       "    </tr>\n",
       "    <tr>\n",
       "      <th>12</th>\n",
       "      <td>0.424972</td>\n",
       "      <td>-0.255087</td>\n",
       "      <td>0.002395</td>\n",
       "      <td>0.126585</td>\n",
       "      <td>-0.008019</td>\n",
       "      <td>-0.004766</td>\n",
       "    </tr>\n",
       "    <tr>\n",
       "      <th>13</th>\n",
       "      <td>0.175467</td>\n",
       "      <td>0.378765</td>\n",
       "      <td>-0.066875</td>\n",
       "      <td>0.020360</td>\n",
       "      <td>0.226753</td>\n",
       "      <td>0.356097</td>\n",
       "    </tr>\n",
       "  </tbody>\n",
       "</table>\n",
       "</div>"
      ],
      "text/plain": [
       "    Component 1  Component 2  Component 3  Component 4  Component 5  \\\n",
       "0      0.101112     0.077736     0.322780    -0.238630    -0.592329   \n",
       "1      0.150470     0.150949     0.105052    -0.238751     0.478296   \n",
       "2     -0.220303    -0.087351     0.375312     0.402646     0.014864   \n",
       "3      0.257542     0.172021    -0.148393    -0.526715    -0.373267   \n",
       "4      0.094193     0.297493     0.340500    -0.294439     0.346482   \n",
       "5     -0.026317     0.539208    -0.227421     0.180426    -0.113261   \n",
       "6     -0.002525     0.423023    -0.327960     0.342604    -0.117499   \n",
       "7      0.437068    -0.024943    -0.164661     0.265460    -0.042504   \n",
       "8      0.435979    -0.254410     0.019311     0.084838     0.016274   \n",
       "9      0.147321     0.265069     0.490532     0.097318     0.033559   \n",
       "10     0.123643     0.177578     0.415831     0.303009    -0.257121   \n",
       "11     0.461753    -0.008936    -0.034316     0.120356     0.115569   \n",
       "12     0.424972    -0.255087     0.002395     0.126585    -0.008019   \n",
       "13     0.175467     0.378765    -0.066875     0.020360     0.226753   \n",
       "\n",
       "    Component 6  \n",
       "0      0.489546  \n",
       "1     -0.020437  \n",
       "2      0.482450  \n",
       "3     -0.128342  \n",
       "4      0.165290  \n",
       "5      0.036572  \n",
       "6      0.024733  \n",
       "7      0.049056  \n",
       "8      0.036115  \n",
       "9     -0.380659  \n",
       "10    -0.412144  \n",
       "11     0.190067  \n",
       "12    -0.004766  \n",
       "13     0.356097  "
      ]
     },
     "execution_count": 141,
     "metadata": {},
     "output_type": "execute_result"
    }
   ],
   "source": [
    "#Examining the component loadings or components\n",
    "PC=pca.components_\n",
    "PC_trans=PC.transpose()\n",
    "results=pd.DataFrame(PC_trans)\n",
    "results.columns=['Component 1', 'Component 2', 'Component 3', 'Component 4', 'Component 5', 'Component 6']\n",
    "results"
   ]
  },
  {
   "cell_type": "markdown",
   "metadata": {},
   "source": [
    "# HOLD UP (Gaussian Naive Bayes)"
   ]
  },
  {
   "cell_type": "code",
   "execution_count": 54,
   "metadata": {},
   "outputs": [],
   "source": [
    "from sklearn.model_selection import train_test_split\n",
    "x_train, x_test, y_train, y_test = train_test_split(x,y,test_size=0.3,random_state=123)"
   ]
  },
  {
   "cell_type": "code",
   "execution_count": 10,
   "metadata": {},
   "outputs": [
    {
     "data": {
      "text/plain": [
       "array([1, 1, 1, 1, 1, 1, 0, 1, 1, 1, 1, 0, 1, 1, 1, 1, 1, 1, 1, 1, 1, 1,\n",
       "       1, 1, 1, 1, 0, 1, 1, 0, 0, 1, 1, 1, 1, 1, 0, 0, 1, 0, 1, 1, 1, 1,\n",
       "       1, 1, 1, 1, 1, 1, 0, 1, 1, 1, 0, 1, 0, 1, 1, 1, 1, 1, 1, 1, 1, 1,\n",
       "       1, 1, 1, 1, 1, 1, 1, 1, 1, 1, 1, 1, 1, 1, 1, 1, 1, 0, 1, 1, 1, 0,\n",
       "       1, 0, 1, 1, 1, 1, 1, 1, 1, 1, 1, 1, 1, 1, 1, 1, 1, 0, 1])"
      ]
     },
     "execution_count": 10,
     "metadata": {},
     "output_type": "execute_result"
    }
   ],
   "source": [
    "from sklearn.naive_bayes import GaussianNB\n",
    "gnb= GaussianNB()\n",
    "y_pred = gnb.fit(x_train, y_train).predict(x_test)\n",
    "y_pred"
   ]
  },
  {
   "cell_type": "code",
   "execution_count": 11,
   "metadata": {
    "scrolled": true
   },
   "outputs": [
    {
     "data": {
      "text/plain": [
       "array([[ 8,  2],\n",
       "       [ 7, 90]], dtype=int64)"
      ]
     },
     "execution_count": 11,
     "metadata": {},
     "output_type": "execute_result"
    }
   ],
   "source": [
    "from sklearn.metrics import confusion_matrix, classification_report\n",
    "confusion_matrix(y_test, y_pred)"
   ]
  },
  {
   "cell_type": "code",
   "execution_count": 12,
   "metadata": {
    "scrolled": false
   },
   "outputs": [
    {
     "name": "stdout",
     "output_type": "stream",
     "text": [
      "              precision    recall  f1-score   support\n",
      "\n",
      "           0       0.53      0.80      0.64        10\n",
      "           1       0.98      0.93      0.95        97\n",
      "\n",
      "    accuracy                           0.92       107\n",
      "   macro avg       0.76      0.86      0.80       107\n",
      "weighted avg       0.94      0.92      0.92       107\n",
      "\n"
     ]
    }
   ],
   "source": [
    "print(classification_report(y_test, y_pred))"
   ]
  },
  {
   "cell_type": "code",
   "execution_count": 13,
   "metadata": {
    "scrolled": true
   },
   "outputs": [
    {
     "data": {
      "image/png": "[encoded data removed]",
      "text/plain": [
       "<Figure size 432x288 with 1 Axes>"
      ]
     },
     "metadata": {
      "needs_background": "light"
     },
     "output_type": "display_data"
    }
   ],
   "source": [
    "import sklearn.metrics as metrics\n",
    "probs = gnb.predict_proba(x_test) #probabilitas klasifikasi\n",
    "preds = probs[:,1]\n",
    "fpr, tpr, threshold = metrics.roc_curve(y_test, preds)\n",
    "roc_auc =  metrics.auc(fpr, tpr)\n",
    "\n",
    "import matplotlib.pyplot as plt\n",
    "plt.title('Receiver Operating Characteristic')\n",
    "plt.plot(fpr, tpr, 'b', label = 'AUC = %0.2f' % roc_auc)\n",
    "plt.legend(loc = 'lower right')\n",
    "plt.plot([0, 1], [0, 1], 'r--') #garis linier merah\n",
    "plt.xlim([0, 1])\n",
    "plt.ylim([0, 1])\n",
    "plt.ylabel('True Positive Rate')\n",
    "plt.xlabel('False Positive Rate')\n",
    "plt.show()"
   ]
  },
  {
   "cell_type": "markdown",
   "metadata": {},
   "source": [
    "# Hold Up (SVM Linier)"
   ]
  },
  {
   "cell_type": "code",
   "execution_count": 55,
   "metadata": {
    "scrolled": false
   },
   "outputs": [
    {
     "name": "stdout",
     "output_type": "stream",
     "text": [
      "[[ 5  5]\n",
      " [ 0 97]]\n",
      "              precision    recall  f1-score   support\n",
      "\n",
      "           0       1.00      0.50      0.67        10\n",
      "           1       0.95      1.00      0.97        97\n",
      "\n",
      "    accuracy                           0.95       107\n",
      "   macro avg       0.98      0.75      0.82       107\n",
      "weighted avg       0.96      0.95      0.95       107\n",
      "\n"
     ]
    }
   ],
   "source": [
    "#linear kernel\n",
    "clf=svm.SVC(kernel='linear')\n",
    "#train the model using the training sets\n",
    "clf.fit(x_train, y_train)\n",
    "#predict  the response for the dataset\n",
    "y_pred=clf.predict(x_test)\n",
    "\n",
    "from sklearn.metrics import classification_report, confusion_matrix\n",
    "print(confusion_matrix(y_test,y_pred))\n",
    "print(classification_report(y_test,y_pred))"
   ]
  },
  {
   "cell_type": "code",
   "execution_count": 56,
   "metadata": {},
   "outputs": [
    {
     "name": "stdout",
     "output_type": "stream",
     "text": [
      "[0.  0.  0.  0.1 0.1 0.3 0.3 0.5 0.5 1. ]\n",
      "[0.         0.01030928 0.80412371 0.80412371 0.96907216 0.96907216\n",
      " 0.98969072 0.98969072 1.         1.        ]\n",
      "[ 4.15675077  3.15675077  1.46059162  1.46043872  1.02482203  0.76727549\n",
      "  0.50438788  0.29302437  0.14166598 -2.61699683]\n"
     ]
    },
    {
     "data": {
      "text/plain": [
       "<Figure size 432x288 with 0 Axes>"
      ]
     },
     "metadata": {},
     "output_type": "display_data"
    },
    {
     "data": {
      "image/png": "[encoded data removed]",
      "text/plain": [
       "<Figure size 720x720 with 1 Axes>"
      ]
     },
     "metadata": {
      "needs_background": "light"
     },
     "output_type": "display_data"
    }
   ],
   "source": [
    "# Learn to predict each class against the other classifier settings\n",
    "svm=svm.SVC(kernel='linear', probability=True,random_state=np.random.RandomState(0))\n",
    "#Use the kernel function as the linear kernel, the parameters are defaulted, and the classifier is created\n",
    " \n",
    "###The value of test_predict_label calculated by decision_function(), used in roc_curve() function\n",
    "y_pred = svm.fit(x_train, y_train).decision_function(x_test)\n",
    " #First use fit to train the training samples and training sample labels to obtain the model, and then use decision_function to obtain the label set predicted by the model for the test sample set\n",
    "\n",
    "# Compute ROC curve and ROC area for each class#Calculate tp,fp\n",
    "#By comparing the label set input by the test sample and the label set predicted by the model, fp, tp, different fp, tp are obtained by the algorithm by changing the threshold through certain rules\n",
    "fpr,tpr,threshold = metrics.roc_curve(y_test, y_pred) \n",
    "###Calculate the true rate and false positive rate\n",
    "print(fpr)\n",
    "print(tpr)\n",
    "print(threshold)\n",
    "roc_auc = metrics.auc(fpr,tpr) ###Calculate the value of auc, auc is the area surrounded by the curve, the bigger the better\n",
    " \n",
    "plt.figure()\n",
    "lw = 2\n",
    "plt.figure(figsize=(10,10))\n",
    "plt.plot(fpr, tpr, color='darkorange',\n",
    "                   lw=lw, label='ROC curve (area = %0.2f)'% roc_auc) ###The false positive rate is the abscissa, the true rate is the ordinate to make the curve\n",
    "plt.plot([0, 1], [0, 1], color='navy', lw=lw, linestyle='--')\n",
    "plt.xlim([0.0, 1.0])\n",
    "plt.ylim([0.0, 1.05])\n",
    "plt.xlabel('False Positive Rate')\n",
    "plt.ylabel('True Positive Rate')\n",
    "plt.title('Receiver operating characteristic example')\n",
    "plt.legend(loc=\"lower right\")\n",
    "plt.show()"
   ]
  },
  {
   "cell_type": "markdown",
   "metadata": {},
   "source": [
    "# Startified Hold Up (Gaussian)"
   ]
  },
  {
   "cell_type": "code",
   "execution_count": 57,
   "metadata": {},
   "outputs": [],
   "source": [
    "x_train, x_test, y_train, y_test = train_test_split(x,y,stratify=y,test_size=0.3,random_state=123)"
   ]
  },
  {
   "cell_type": "code",
   "execution_count": 150,
   "metadata": {},
   "outputs": [
    {
     "data": {
      "text/plain": [
       "array([0, 1, 1, 1, 0, 1, 1, 1, 1, 1, 0, 0, 0, 1, 1, 1, 1, 1, 1, 1, 1, 1,\n",
       "       1, 1, 1, 1, 1, 1, 1, 0, 0, 1, 1, 1, 1, 1, 1, 1, 1, 1, 1, 1, 1, 1,\n",
       "       0, 1, 1, 0, 1, 1, 1, 1, 1, 1, 1, 1, 1, 1, 1, 1, 1, 1, 1, 1, 1, 0,\n",
       "       0, 1, 1, 1, 1, 1, 1, 1, 1, 1, 1, 1, 1, 1, 1, 1, 1, 0, 1, 1, 1, 1,\n",
       "       0, 0, 1, 0, 1, 1, 1, 1, 1, 1, 1, 1, 1, 1, 1, 1, 0, 1, 1])"
      ]
     },
     "execution_count": 150,
     "metadata": {},
     "output_type": "execute_result"
    }
   ],
   "source": [
    "gnb= GaussianNB()\n",
    "y_pred = gnb.fit(x_train, y_train).predict(x_test)\n",
    "y_pred"
   ]
  },
  {
   "cell_type": "code",
   "execution_count": 151,
   "metadata": {},
   "outputs": [
    {
     "data": {
      "text/plain": [
       "array([[11,  2],\n",
       "       [ 5, 89]], dtype=int64)"
      ]
     },
     "execution_count": 151,
     "metadata": {},
     "output_type": "execute_result"
    }
   ],
   "source": [
    "confusion_matrix(y_test, y_pred)"
   ]
  },
  {
   "cell_type": "code",
   "execution_count": 152,
   "metadata": {
    "scrolled": false
   },
   "outputs": [
    {
     "name": "stdout",
     "output_type": "stream",
     "text": [
      "              precision    recall  f1-score   support\n",
      "\n",
      "           0       0.69      0.85      0.76        13\n",
      "           1       0.98      0.95      0.96        94\n",
      "\n",
      "    accuracy                           0.93       107\n",
      "   macro avg       0.83      0.90      0.86       107\n",
      "weighted avg       0.94      0.93      0.94       107\n",
      "\n"
     ]
    }
   ],
   "source": [
    "print(classification_report(y_test, y_pred))"
   ]
  },
  {
   "cell_type": "code",
   "execution_count": 153,
   "metadata": {},
   "outputs": [
    {
     "data": {
      "image/png": "[encoded data removed]",
      "text/plain": [
       "<Figure size 432x288 with 1 Axes>"
      ]
     },
     "metadata": {
      "needs_background": "light"
     },
     "output_type": "display_data"
    }
   ],
   "source": [
    "import sklearn.metrics as metrics\n",
    "probs = gnb.predict_proba(x_test) #probabilitas klasifikasi\n",
    "preds = probs[:,1]\n",
    "fpr, tpr, threshold = metrics.roc_curve(y_test, preds)\n",
    "roc_auc =  metrics.auc(fpr, tpr)\n",
    "\n",
    "import matplotlib.pyplot as plt\n",
    "plt.title('Receiver Operating Characteristic')\n",
    "plt.plot(fpr, tpr, 'b', label = 'AUC = %0.2f' % roc_auc)\n",
    "plt.legend(loc = 'lower right')\n",
    "plt.plot([0, 1], [0, 1], 'r--') #garis linier merah\n",
    "plt.xlim([0, 1])\n",
    "plt.ylim([0, 1])\n",
    "plt.ylabel('True Positive Rate')\n",
    "plt.xlabel('False Positive Rate')\n",
    "plt.show()"
   ]
  },
  {
   "cell_type": "markdown",
   "metadata": {},
   "source": [
    "# Startified Hold Up (Radial Bebas)"
   ]
  },
  {
   "cell_type": "code",
   "execution_count": 53,
   "metadata": {},
   "outputs": [],
   "source": [
    "x_train, x_test, y_train, y_test = train_test_split(x,y,stratify=y,test_size=0.3,random_state=123)"
   ]
  },
  {
   "cell_type": "code",
   "execution_count": 54,
   "metadata": {},
   "outputs": [],
   "source": [
    "#polinomial kernel\n",
    "clfrbf=svm.SVC(kernel='rbf')\n",
    "\n",
    "#train the model using the training sets\n",
    "clfrbf.fit(x_train, y_train)\n",
    "\n",
    "#predict the response for test dataset\n",
    "y_predrbf=clfrbf.predict(x_test)"
   ]
  },
  {
   "cell_type": "code",
   "execution_count": 55,
   "metadata": {
    "scrolled": true
   },
   "outputs": [
    {
     "name": "stdout",
     "output_type": "stream",
     "text": [
      "[[ 3 10]\n",
      " [ 1 93]]\n",
      "              precision    recall  f1-score   support\n",
      "\n",
      "           0       0.75      0.23      0.35        13\n",
      "           1       0.90      0.99      0.94        94\n",
      "\n",
      "    accuracy                           0.90       107\n",
      "   macro avg       0.83      0.61      0.65       107\n",
      "weighted avg       0.88      0.90      0.87       107\n",
      "\n"
     ]
    }
   ],
   "source": [
    "# from sklearn.metrics import classification_report, confusion_matrix\n",
    "print(confusion_matrix(y_test,y_predrbf))\n",
    "print(classification_report(y_test,y_predrbf))"
   ]
  },
  {
   "cell_type": "markdown",
   "metadata": {},
   "source": [
    "# Stratified Hold Up (SVM Linier)"
   ]
  },
  {
   "cell_type": "code",
   "execution_count": 62,
   "metadata": {},
   "outputs": [],
   "source": [
    "x_train, x_test, y_train, y_test = train_test_split(x,y,stratify=y,test_size=0.3,random_state=123)"
   ]
  },
  {
   "cell_type": "code",
   "execution_count": 63,
   "metadata": {},
   "outputs": [],
   "source": [
    "#linear kernel\n",
    "clf=svm.SVC(kernel='linear')\n",
    "#train the model using the training sets\n",
    "clf.fit(x_train, y_train)\n",
    "#predict  the response for the dataset\n",
    "y_pred=clf.predict(x_test)"
   ]
  },
  {
   "cell_type": "code",
   "execution_count": 64,
   "metadata": {
    "scrolled": false
   },
   "outputs": [
    {
     "name": "stdout",
     "output_type": "stream",
     "text": [
      "[[ 8  5]\n",
      " [ 1 93]]\n",
      "              precision    recall  f1-score   support\n",
      "\n",
      "           0       0.89      0.62      0.73        13\n",
      "           1       0.95      0.99      0.97        94\n",
      "\n",
      "    accuracy                           0.94       107\n",
      "   macro avg       0.92      0.80      0.85       107\n",
      "weighted avg       0.94      0.94      0.94       107\n",
      "\n"
     ]
    }
   ],
   "source": [
    "from sklearn.metrics import classification_report, confusion_matrix\n",
    "print(confusion_matrix(y_test,y_pred))\n",
    "print(classification_report(y_test,y_pred))"
   ]
  },
  {
   "cell_type": "code",
   "execution_count": 65,
   "metadata": {},
   "outputs": [
    {
     "name": "stdout",
     "output_type": "stream",
     "text": [
      "[0.         0.         0.         0.07692308 0.07692308 0.15384615\n",
      " 0.15384615 0.23076923 0.23076923 0.30769231 0.30769231 0.38461538\n",
      " 0.38461538 0.53846154 0.53846154 1.        ]\n",
      "[0.         0.0106383  0.25531915 0.25531915 0.77659574 0.77659574\n",
      " 0.82978723 0.82978723 0.91489362 0.91489362 0.95744681 0.95744681\n",
      " 0.9893617  0.9893617  1.         1.        ]\n",
      "[ 4.54496552  3.54496552  2.5600404   2.55283329  1.31819504  1.29699111\n",
      "  1.11597945  1.07858594  0.71276536  0.63214747  0.27536523  0.14428249\n",
      "  0.01660458 -0.17522455 -0.35469984 -1.71635046]\n"
     ]
    },
    {
     "data": {
      "text/plain": [
       "<Figure size 432x288 with 0 Axes>"
      ]
     },
     "metadata": {},
     "output_type": "display_data"
    },
    {
     "data": {
      "image/png": "[encoded data removed]",
      "text/plain": [
       "<Figure size 720x720 with 1 Axes>"
      ]
     },
     "metadata": {
      "needs_background": "light"
     },
     "output_type": "display_data"
    }
   ],
   "source": [
    "# Learn to predict each class against the other classifier settings\n",
    "svm=svm.SVC(kernel='linear', probability=True,random_state=np.random.RandomState(0))\n",
    "#Use the kernel function as the linear kernel, the parameters are defaulted, and the classifier is created\n",
    " \n",
    "###The value of test_predict_label calculated by decision_function(), used in roc_curve() function\n",
    "y_pred = svm.fit(x_train, y_train).decision_function(x_test)\n",
    " #First use fit to train the training samples and training sample labels to obtain the model, and then use decision_function to obtain the label set predicted by the model for the test sample set\n",
    "\n",
    "# Compute ROC curve and ROC area for each class#Calculate tp,fp\n",
    "#By comparing the label set input by the test sample and the label set predicted by the model, fp, tp, different fp, tp are obtained by the algorithm by changing the threshold through certain rules\n",
    "fpr,tpr,threshold = metrics.roc_curve(y_test, y_pred) \n",
    "###Calculate the true rate and false positive rate\n",
    "print(fpr)\n",
    "print(tpr)\n",
    "print(threshold)\n",
    "roc_auc = metrics.auc(fpr,tpr) ###Calculate the value of auc, auc is the area surrounded by the curve, the bigger the better\n",
    " \n",
    "plt.figure()\n",
    "lw = 2\n",
    "plt.figure(figsize=(10,10))\n",
    "plt.plot(fpr, tpr, color='darkorange',\n",
    "                   lw=lw, label='ROC curve (area = %0.2f)'% roc_auc) ###The false positive rate is the abscissa, the true rate is the ordinate to make the curve\n",
    "plt.plot([0, 1], [0, 1], color='navy', lw=lw, linestyle='--')\n",
    "plt.xlim([0.0, 1.0])\n",
    "plt.ylim([0.0, 1.05])\n",
    "plt.xlabel('False Positive Rate')\n",
    "plt.ylabel('True Positive Rate')\n",
    "plt.title('Receiver operating characteristic example')\n",
    "plt.legend(loc=\"lower right\")\n",
    "plt.show()"
   ]
  },
  {
   "cell_type": "markdown",
   "metadata": {},
   "source": [
    "# Stratified Hold Up (SVM Polinomial Berderajat 3)"
   ]
  },
  {
   "cell_type": "code",
   "execution_count": 61,
   "metadata": {},
   "outputs": [],
   "source": [
    "#polinomial kernel\n",
    "clfpoly=svm.SVC(kernel='poly', degree=3)\n",
    "\n",
    "#train the model using the training sets\n",
    "clfpoly.fit(x_train, y_train)\n",
    "\n",
    "#predict the response for test dataset\n",
    "y_predpoly=clfpoly.predict(x_test)"
   ]
  },
  {
   "cell_type": "code",
   "execution_count": 62,
   "metadata": {
    "scrolled": true
   },
   "outputs": [
    {
     "name": "stdout",
     "output_type": "stream",
     "text": [
      "[[ 5  8]\n",
      " [ 3 91]]\n",
      "              precision    recall  f1-score   support\n",
      "\n",
      "           0       0.62      0.38      0.48        13\n",
      "           1       0.92      0.97      0.94        94\n",
      "\n",
      "    accuracy                           0.90       107\n",
      "   macro avg       0.77      0.68      0.71       107\n",
      "weighted avg       0.88      0.90      0.89       107\n",
      "\n"
     ]
    }
   ],
   "source": [
    "# from sklearn.metrics import classification_report, confusion_matrix\n",
    "print(confusion_matrix(y_test,y_predpoly))\n",
    "print(classification_report(y_test,y_predpoly))"
   ]
  },
  {
   "cell_type": "markdown",
   "metadata": {},
   "source": [
    "# Cross Validation"
   ]
  },
  {
   "cell_type": "code",
   "execution_count": 56,
   "metadata": {},
   "outputs": [
    {
     "data": {
      "text/plain": [
       "array([0.98591549, 0.97183099, 0.97183099, 0.84507042, 0.76056338])"
      ]
     },
     "execution_count": 56,
     "metadata": {},
     "output_type": "execute_result"
    }
   ],
   "source": [
    "from sklearn import model_selection\n",
    "from sklearn.model_selection import KFold, cross_val_score\n",
    "kfold = KFold(n_splits=5)\n",
    "model_kfold = GaussianNB()\n",
    "results_kfold = model_selection.cross_val_score(model_kfold, x, y, cv=kfold)\n",
    "results_kfold"
   ]
  },
  {
   "cell_type": "code",
   "execution_count": 57,
   "metadata": {},
   "outputs": [
    {
     "name": "stdout",
     "output_type": "stream",
     "text": [
      "Accuracy: 90.70%\n"
     ]
    }
   ],
   "source": [
    "print(\"Accuracy: %.2f%%\" % (results_kfold.mean()*100.0))"
   ]
  },
  {
   "cell_type": "markdown",
   "metadata": {},
   "source": [
    "# Stratified Cross Validation"
   ]
  },
  {
   "cell_type": "code",
   "execution_count": 58,
   "metadata": {},
   "outputs": [
    {
     "name": "stderr",
     "output_type": "stream",
     "text": [
      "C:\\Users\\WINDOWS8.1\\anaconda3\\lib\\site-packages\\sklearn\\model_selection\\_split.py:293: FutureWarning: Setting a random_state has no effect since shuffle is False. This will raise an error in 0.24. You should leave random_state to its default (None), or set shuffle=True.\n",
      "  warnings.warn(\n"
     ]
    },
    {
     "data": {
      "text/plain": [
       "array([0.91549296, 0.97183099, 0.88732394, 0.94366197, 0.53521127])"
      ]
     },
     "execution_count": 58,
     "metadata": {},
     "output_type": "execute_result"
    }
   ],
   "source": [
    "from sklearn.model_selection import StratifiedKFold\n",
    "kfold_Stra = StratifiedKFold(n_splits=5,random_state=123)\n",
    "model_kfold = GaussianNB()\n",
    "results_kfold_Stra = model_selection.cross_val_score(model_kfold, x, y, cv=kfold_Stra)\n",
    "results_kfold_Stra"
   ]
  },
  {
   "cell_type": "code",
   "execution_count": 59,
   "metadata": {},
   "outputs": [
    {
     "name": "stdout",
     "output_type": "stream",
     "text": [
      "Accuracy: 85.07%\n"
     ]
    }
   ],
   "source": [
    "print(\"Accuracy: %.2f%%\" % (results_kfold_Stra.mean()*100.0))"
   ]
  },
  {
   "cell_type": "markdown",
   "metadata": {},
   "source": [
    "# Repeated Cross Validation"
   ]
  },
  {
   "cell_type": "code",
   "execution_count": 60,
   "metadata": {},
   "outputs": [
    {
     "data": {
      "text/plain": [
       "array([0.92957746, 0.91549296, 0.84507042, 0.94366197, 0.91549296,\n",
       "       0.92957746, 0.95774648, 0.87323944, 0.91549296, 0.90140845,\n",
       "       0.88732394, 0.91549296, 0.91549296, 0.92957746, 0.92957746,\n",
       "       0.90140845, 0.94366197, 0.88732394, 0.97183099, 0.90140845,\n",
       "       0.94366197, 0.91549296, 0.91549296, 0.90140845, 0.90140845])"
      ]
     },
     "execution_count": 60,
     "metadata": {},
     "output_type": "execute_result"
    }
   ],
   "source": [
    "from sklearn.model_selection import RepeatedKFold\n",
    "rkfold = RepeatedKFold(n_splits=5,n_repeats=5,random_state=123)\n",
    "results_rkfold = model_selection.cross_val_score(GaussianNB(), x, y, cv=rkfold)\n",
    "results_rkfold"
   ]
  },
  {
   "cell_type": "code",
   "execution_count": 61,
   "metadata": {},
   "outputs": [
    {
     "name": "stdout",
     "output_type": "stream",
     "text": [
      "Accuracy: 91.55%\n"
     ]
    }
   ],
   "source": [
    "print(\"Accuracy: %.2f%%\" % (results_rkfold.mean()*100.0))"
   ]
  },
  {
   "cell_type": "code",
   "execution_count": null,
   "metadata": {},
   "outputs": [],
   "source": [
    "import sklearn.metrics as metrics\n",
    "probs = gnb.predict_proba(x_test) #probabilitas klasifikasi\n",
    "preds = probs[:,1]\n",
    "fpr, tpr, threshold = metrics.roc_curve(y_test, preds)\n",
    "roc_auc =  metrics.auc(fpr, tpr)\n",
    "\n",
    "import matplotlib.pyplot as plt\n",
    "plt.title('Receiver Operating Characteristic')\n",
    "plt.plot(fpr, tpr, 'b', label = 'AUC = %0.2f' % roc_auc)\n",
    "plt.legend(loc = 'lower right')\n",
    "plt.plot([0, 1], [0, 1], 'r--') #garis linier merah\n",
    "plt.xlim([0, 1])\n",
    "plt.ylim([0, 1])\n",
    "plt.ylabel('True Positive Rate')\n",
    "plt.xlabel('False Positive Rate')\n",
    "plt.show()"
   ]
  }
 ],
 "metadata": {
  "kernelspec": {
   "display_name": "Python 3",
   "language": "python",
   "name": "python3"
  },
  "language_info": {
   "codemirror_mode": {
    "name": "ipython",
    "version": 3
   },
   "file_extension": ".py",
   "mimetype": "text/x-python",
   "name": "python",
   "nbconvert_exporter": "python",
   "pygments_lexer": "ipython3",
   "version": "3.8.5"
  }
 },
 "nbformat": 4,
 "nbformat_minor": 4
}
